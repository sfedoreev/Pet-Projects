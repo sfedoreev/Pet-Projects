{
 "cells": [
  {
   "cell_type": "markdown",
   "id": "9edfb609",
   "metadata": {},
   "source": [
    "# Бизнес-аналитик - тестовое задание "
   ]
  },
  {
   "cell_type": "markdown",
   "id": "da6850f4",
   "metadata": {},
   "source": [
    "## Задание \n",
    "\n",
    "Требуется провести анализ изменения цены лечения в 2022 году относительно 2021 года в медицинской клинике и определить ключевые драйверы изменения цены лечения."
   ]
  },
  {
   "cell_type": "markdown",
   "id": "5a01fdd0",
   "metadata": {},
   "source": [
    "**Описание данные:**\n",
    "\n",
    "- record_id- уникальный идентификатор строки данных\n",
    "- service_date - дата оказания медицинской услуги\n",
    "- service_name - наименование медицинской услуги\n",
    "- service_number - количество услуг\n",
    "- service_amount - сумма выплат (стоимость оказанных услуг в рублях)\n",
    "- insured - уникальный идентификатор пациента\n",
    "- sex_id - пол пациента\n",
    "- age_for_service_date - возраст пациента"
   ]
  },
  {
   "cell_type": "markdown",
   "id": "c5913a51",
   "metadata": {},
   "source": [
    "## 1 Откроем файл с данными и изучим общую информацию"
   ]
  },
  {
   "cell_type": "code",
   "execution_count": 1,
   "id": "0672fd23",
   "metadata": {},
   "outputs": [],
   "source": [
    "# Импортируем библиотеки\n",
    "import pandas as pd\n",
    "import numpy as np\n",
    "import scipy.stats as stats\n",
    "import matplotlib.pyplot as plt\n",
    "import seaborn as sns\n",
    "import datetime as dt\n",
    "from matplotlib.ticker import FuncFormatter\n",
    "import plotly.express as px\n",
    "import plotly.graph_objects as go\n",
    "from datetime import timedelta\n",
    "import scipy.stats as st\n",
    "import plotly.express as px\n",
    "import warnings\n",
    "warnings.filterwarnings('ignore')"
   ]
  },
  {
   "cell_type": "code",
   "execution_count": 2,
   "id": "6369cd4b",
   "metadata": {},
   "outputs": [],
   "source": [
    "# Загрузим исходные данные \n",
    "data = pd.read_excel('D:\\яп дипломмм/data_test_task_2022.xlsx')"
   ]
  },
  {
   "cell_type": "code",
   "execution_count": 3,
   "id": "1520a7a4",
   "metadata": {},
   "outputs": [
    {
     "data": {
      "text/html": [
       "<div>\n",
       "<style scoped>\n",
       "    .dataframe tbody tr th:only-of-type {\n",
       "        vertical-align: middle;\n",
       "    }\n",
       "\n",
       "    .dataframe tbody tr th {\n",
       "        vertical-align: top;\n",
       "    }\n",
       "\n",
       "    .dataframe thead th {\n",
       "        text-align: right;\n",
       "    }\n",
       "</style>\n",
       "<table border=\"1\" class=\"dataframe\">\n",
       "  <thead>\n",
       "    <tr style=\"text-align: right;\">\n",
       "      <th></th>\n",
       "      <th>record_id</th>\n",
       "      <th>service_date</th>\n",
       "      <th>service_name</th>\n",
       "      <th>service_amount</th>\n",
       "      <th>service_number</th>\n",
       "      <th>insured</th>\n",
       "      <th>sex_id</th>\n",
       "      <th>age_for_service_date</th>\n",
       "    </tr>\n",
       "  </thead>\n",
       "  <tbody>\n",
       "    <tr>\n",
       "      <th>0</th>\n",
       "      <td>30268157003</td>\n",
       "      <td>2021-01-24</td>\n",
       "      <td>Прием первичный</td>\n",
       "      <td>1470</td>\n",
       "      <td>1</td>\n",
       "      <td>490777</td>\n",
       "      <td>2.0</td>\n",
       "      <td>26</td>\n",
       "    </tr>\n",
       "    <tr>\n",
       "      <th>1</th>\n",
       "      <td>30268157103</td>\n",
       "      <td>2021-01-24</td>\n",
       "      <td>Взятие материала на посев, цитологическое иссл...</td>\n",
       "      <td>284</td>\n",
       "      <td>1</td>\n",
       "      <td>490777</td>\n",
       "      <td>2.0</td>\n",
       "      <td>26</td>\n",
       "    </tr>\n",
       "    <tr>\n",
       "      <th>2</th>\n",
       "      <td>30268157203</td>\n",
       "      <td>2021-01-24</td>\n",
       "      <td>Посев отдел, дыхательных путей - слизистая зев...</td>\n",
       "      <td>1134</td>\n",
       "      <td>1</td>\n",
       "      <td>490777</td>\n",
       "      <td>2.0</td>\n",
       "      <td>26</td>\n",
       "    </tr>\n",
       "    <tr>\n",
       "      <th>3</th>\n",
       "      <td>30268157303</td>\n",
       "      <td>2021-01-24</td>\n",
       "      <td>Общий анализ крови (лейкоцитарная форм,, СОЭ)</td>\n",
       "      <td>693</td>\n",
       "      <td>1</td>\n",
       "      <td>490777</td>\n",
       "      <td>2.0</td>\n",
       "      <td>26</td>\n",
       "    </tr>\n",
       "    <tr>\n",
       "      <th>4</th>\n",
       "      <td>30268157403</td>\n",
       "      <td>2021-01-24</td>\n",
       "      <td>Ревматоидный фактор</td>\n",
       "      <td>420</td>\n",
       "      <td>1</td>\n",
       "      <td>490777</td>\n",
       "      <td>2.0</td>\n",
       "      <td>26</td>\n",
       "    </tr>\n",
       "    <tr>\n",
       "      <th>5</th>\n",
       "      <td>30268157503</td>\n",
       "      <td>2021-01-24</td>\n",
       "      <td>С-реактивный белок</td>\n",
       "      <td>420</td>\n",
       "      <td>1</td>\n",
       "      <td>490777</td>\n",
       "      <td>2.0</td>\n",
       "      <td>26</td>\n",
       "    </tr>\n",
       "    <tr>\n",
       "      <th>6</th>\n",
       "      <td>30268157603</td>\n",
       "      <td>2021-01-24</td>\n",
       "      <td>Взятие крови из периферической вены</td>\n",
       "      <td>158</td>\n",
       "      <td>1</td>\n",
       "      <td>490777</td>\n",
       "      <td>2.0</td>\n",
       "      <td>26</td>\n",
       "    </tr>\n",
       "    <tr>\n",
       "      <th>7</th>\n",
       "      <td>30268157703</td>\n",
       "      <td>2021-01-26</td>\n",
       "      <td>Прием первичный</td>\n",
       "      <td>1470</td>\n",
       "      <td>1</td>\n",
       "      <td>490777</td>\n",
       "      <td>2.0</td>\n",
       "      <td>26</td>\n",
       "    </tr>\n",
       "    <tr>\n",
       "      <th>8</th>\n",
       "      <td>30268157803</td>\n",
       "      <td>2021-01-26</td>\n",
       "      <td>Магнитотерапия (1 сеанс)</td>\n",
       "      <td>1040</td>\n",
       "      <td>1</td>\n",
       "      <td>490777</td>\n",
       "      <td>2.0</td>\n",
       "      <td>26</td>\n",
       "    </tr>\n",
       "    <tr>\n",
       "      <th>9</th>\n",
       "      <td>30268157903</td>\n",
       "      <td>2021-01-26</td>\n",
       "      <td>УВЧ-терапия (1 сеанс) (1 поле)</td>\n",
       "      <td>1040</td>\n",
       "      <td>1</td>\n",
       "      <td>490777</td>\n",
       "      <td>2.0</td>\n",
       "      <td>26</td>\n",
       "    </tr>\n",
       "  </tbody>\n",
       "</table>\n",
       "</div>"
      ],
      "text/plain": [
       "     record_id service_date  \\\n",
       "0  30268157003   2021-01-24   \n",
       "1  30268157103   2021-01-24   \n",
       "2  30268157203   2021-01-24   \n",
       "3  30268157303   2021-01-24   \n",
       "4  30268157403   2021-01-24   \n",
       "5  30268157503   2021-01-24   \n",
       "6  30268157603   2021-01-24   \n",
       "7  30268157703   2021-01-26   \n",
       "8  30268157803   2021-01-26   \n",
       "9  30268157903   2021-01-26   \n",
       "\n",
       "                                        service_name  service_amount  \\\n",
       "0                                    Прием первичный            1470   \n",
       "1  Взятие материала на посев, цитологическое иссл...             284   \n",
       "2  Посев отдел, дыхательных путей - слизистая зев...            1134   \n",
       "3      Общий анализ крови (лейкоцитарная форм,, СОЭ)             693   \n",
       "4                                Ревматоидный фактор             420   \n",
       "5                                 С-реактивный белок             420   \n",
       "6                Взятие крови из периферической вены             158   \n",
       "7                                    Прием первичный            1470   \n",
       "8                           Магнитотерапия (1 сеанс)            1040   \n",
       "9                     УВЧ-терапия (1 сеанс) (1 поле)            1040   \n",
       "\n",
       "   service_number  insured  sex_id  age_for_service_date  \n",
       "0               1   490777     2.0                    26  \n",
       "1               1   490777     2.0                    26  \n",
       "2               1   490777     2.0                    26  \n",
       "3               1   490777     2.0                    26  \n",
       "4               1   490777     2.0                    26  \n",
       "5               1   490777     2.0                    26  \n",
       "6               1   490777     2.0                    26  \n",
       "7               1   490777     2.0                    26  \n",
       "8               1   490777     2.0                    26  \n",
       "9               1   490777     2.0                    26  "
      ]
     },
     "execution_count": 3,
     "metadata": {},
     "output_type": "execute_result"
    }
   ],
   "source": [
    "# Изучим исходные данные, выведем первые 10 строчек\n",
    "data.head(10)"
   ]
  },
  {
   "cell_type": "code",
   "execution_count": 4,
   "id": "00ab7c22",
   "metadata": {},
   "outputs": [
    {
     "name": "stdout",
     "output_type": "stream",
     "text": [
      "<class 'pandas.core.frame.DataFrame'>\n",
      "RangeIndex: 85369 entries, 0 to 85368\n",
      "Data columns (total 8 columns):\n",
      " #   Column                Non-Null Count  Dtype  \n",
      "---  ------                --------------  -----  \n",
      " 0   record_id             85369 non-null  int64  \n",
      " 1   service_date          85369 non-null  object \n",
      " 2   service_name          85369 non-null  object \n",
      " 3   service_amount        85369 non-null  int64  \n",
      " 4   service_number        85369 non-null  int64  \n",
      " 5   insured               85369 non-null  int64  \n",
      " 6   sex_id                85348 non-null  float64\n",
      " 7   age_for_service_date  85369 non-null  int64  \n",
      "dtypes: float64(1), int64(5), object(2)\n",
      "memory usage: 5.2+ MB\n"
     ]
    }
   ],
   "source": [
    "# Изучим исходную информацию \n",
    "data.info()"
   ]
  },
  {
   "cell_type": "markdown",
   "id": "0b8793d8",
   "metadata": {},
   "source": [
    "## 2 Изучим и проверим данные"
   ]
  },
  {
   "cell_type": "markdown",
   "id": "a19fa881",
   "metadata": {},
   "source": [
    "### 2.1 Предобрабокта данных"
   ]
  },
  {
   "cell_type": "code",
   "execution_count": 5,
   "id": "e87f33ea",
   "metadata": {},
   "outputs": [],
   "source": [
    "# Cкорректируем тип данных столбца service_date\n",
    "data['service_date'] = pd.to_datetime(data['service_date']) "
   ]
  },
  {
   "cell_type": "code",
   "execution_count": 6,
   "id": "d52afd7b",
   "metadata": {},
   "outputs": [],
   "source": [
    "# Добавим отдельно столбцы с годом и месяцем\n",
    "data['year'] = pd.to_datetime(data['service_date']).dt.year\n",
    "data['month'] = pd.to_datetime(data['service_date']).dt.month"
   ]
  },
  {
   "cell_type": "code",
   "execution_count": 7,
   "id": "37395f12",
   "metadata": {},
   "outputs": [
    {
     "data": {
      "text/html": [
       "<div>\n",
       "<style scoped>\n",
       "    .dataframe tbody tr th:only-of-type {\n",
       "        vertical-align: middle;\n",
       "    }\n",
       "\n",
       "    .dataframe tbody tr th {\n",
       "        vertical-align: top;\n",
       "    }\n",
       "\n",
       "    .dataframe thead th {\n",
       "        text-align: right;\n",
       "    }\n",
       "</style>\n",
       "<table border=\"1\" class=\"dataframe\">\n",
       "  <thead>\n",
       "    <tr style=\"text-align: right;\">\n",
       "      <th></th>\n",
       "      <th>0</th>\n",
       "    </tr>\n",
       "  </thead>\n",
       "  <tbody>\n",
       "    <tr>\n",
       "      <th>record_id</th>\n",
       "      <td>0</td>\n",
       "    </tr>\n",
       "    <tr>\n",
       "      <th>service_date</th>\n",
       "      <td>0</td>\n",
       "    </tr>\n",
       "    <tr>\n",
       "      <th>service_name</th>\n",
       "      <td>0</td>\n",
       "    </tr>\n",
       "    <tr>\n",
       "      <th>service_amount</th>\n",
       "      <td>0</td>\n",
       "    </tr>\n",
       "    <tr>\n",
       "      <th>service_number</th>\n",
       "      <td>0</td>\n",
       "    </tr>\n",
       "    <tr>\n",
       "      <th>insured</th>\n",
       "      <td>0</td>\n",
       "    </tr>\n",
       "    <tr>\n",
       "      <th>sex_id</th>\n",
       "      <td>21</td>\n",
       "    </tr>\n",
       "    <tr>\n",
       "      <th>age_for_service_date</th>\n",
       "      <td>0</td>\n",
       "    </tr>\n",
       "    <tr>\n",
       "      <th>year</th>\n",
       "      <td>0</td>\n",
       "    </tr>\n",
       "    <tr>\n",
       "      <th>month</th>\n",
       "      <td>0</td>\n",
       "    </tr>\n",
       "  </tbody>\n",
       "</table>\n",
       "</div>"
      ],
      "text/plain": [
       "                       0\n",
       "record_id              0\n",
       "service_date           0\n",
       "service_name           0\n",
       "service_amount         0\n",
       "service_number         0\n",
       "insured                0\n",
       "sex_id                21\n",
       "age_for_service_date   0\n",
       "year                   0\n",
       "month                  0"
      ]
     },
     "execution_count": 7,
     "metadata": {},
     "output_type": "execute_result"
    }
   ],
   "source": [
    "# Определение пропусков в столбцах\n",
    "data.isna().sum().to_frame() "
   ]
  },
  {
   "cell_type": "markdown",
   "id": "b9fdafcf",
   "metadata": {},
   "source": [
    "В столбце пол пациента имеется 21 пропуск."
   ]
  },
  {
   "cell_type": "code",
   "execution_count": 8,
   "id": "7ee101e0",
   "metadata": {},
   "outputs": [],
   "source": [
    "# Так как, пропуски составляют 0,02%, удалим их\n",
    "data = data.dropna()"
   ]
  },
  {
   "cell_type": "code",
   "execution_count": 9,
   "id": "4c372447",
   "metadata": {},
   "outputs": [
    {
     "data": {
      "text/html": [
       "<div>\n",
       "<style scoped>\n",
       "    .dataframe tbody tr th:only-of-type {\n",
       "        vertical-align: middle;\n",
       "    }\n",
       "\n",
       "    .dataframe tbody tr th {\n",
       "        vertical-align: top;\n",
       "    }\n",
       "\n",
       "    .dataframe thead th {\n",
       "        text-align: right;\n",
       "    }\n",
       "</style>\n",
       "<table border=\"1\" class=\"dataframe\">\n",
       "  <thead>\n",
       "    <tr style=\"text-align: right;\">\n",
       "      <th></th>\n",
       "      <th>0</th>\n",
       "    </tr>\n",
       "  </thead>\n",
       "  <tbody>\n",
       "    <tr>\n",
       "      <th>record_id</th>\n",
       "      <td>0</td>\n",
       "    </tr>\n",
       "    <tr>\n",
       "      <th>service_date</th>\n",
       "      <td>0</td>\n",
       "    </tr>\n",
       "    <tr>\n",
       "      <th>service_name</th>\n",
       "      <td>0</td>\n",
       "    </tr>\n",
       "    <tr>\n",
       "      <th>service_amount</th>\n",
       "      <td>0</td>\n",
       "    </tr>\n",
       "    <tr>\n",
       "      <th>service_number</th>\n",
       "      <td>0</td>\n",
       "    </tr>\n",
       "    <tr>\n",
       "      <th>insured</th>\n",
       "      <td>0</td>\n",
       "    </tr>\n",
       "    <tr>\n",
       "      <th>sex_id</th>\n",
       "      <td>0</td>\n",
       "    </tr>\n",
       "    <tr>\n",
       "      <th>age_for_service_date</th>\n",
       "      <td>0</td>\n",
       "    </tr>\n",
       "    <tr>\n",
       "      <th>year</th>\n",
       "      <td>0</td>\n",
       "    </tr>\n",
       "    <tr>\n",
       "      <th>month</th>\n",
       "      <td>0</td>\n",
       "    </tr>\n",
       "  </tbody>\n",
       "</table>\n",
       "</div>"
      ],
      "text/plain": [
       "                      0\n",
       "record_id             0\n",
       "service_date          0\n",
       "service_name          0\n",
       "service_amount        0\n",
       "service_number        0\n",
       "insured               0\n",
       "sex_id                0\n",
       "age_for_service_date  0\n",
       "year                  0\n",
       "month                 0"
      ]
     },
     "execution_count": 9,
     "metadata": {},
     "output_type": "execute_result"
    }
   ],
   "source": [
    "# Проверим наличие пропусков в столбцах\n",
    "data.isna().sum().to_frame()"
   ]
  },
  {
   "cell_type": "markdown",
   "id": "1dbc200a",
   "metadata": {},
   "source": [
    "Пропуски в данных отсутствуют."
   ]
  },
  {
   "cell_type": "code",
   "execution_count": 10,
   "id": "f5e95469",
   "metadata": {},
   "outputs": [
    {
     "name": "stdout",
     "output_type": "stream",
     "text": [
      "Количество дубликатов: 0\n"
     ]
    }
   ],
   "source": [
    "# Определение количества дубликатов\n",
    "print ('Количество дубликатов:', data.duplicated().sum()) "
   ]
  },
  {
   "cell_type": "markdown",
   "id": "ca24d539",
   "metadata": {},
   "source": [
    "### 2.2 Изучим исходные данные"
   ]
  },
  {
   "cell_type": "code",
   "execution_count": 11,
   "id": "e2aff4c0",
   "metadata": {},
   "outputs": [
    {
     "name": "stdout",
     "output_type": "stream",
     "text": [
      "Минимальная дата оказания медицинской услуги: 2021-01-03 00:00:00\n"
     ]
    }
   ],
   "source": [
    "# Определим минимальную дату оказания медицинской услуги\n",
    "min_analysis_date = data['service_date'].min()\n",
    "print('Минимальная дата оказания медицинской услуги:', min_analysis_date)"
   ]
  },
  {
   "cell_type": "code",
   "execution_count": 12,
   "id": "6168b843",
   "metadata": {},
   "outputs": [
    {
     "name": "stdout",
     "output_type": "stream",
     "text": [
      "Максимальная дата оказания медицинской услуги: 2022-08-31 00:00:00\n"
     ]
    }
   ],
   "source": [
    "# Определим максимальную дату оказания медицинской услуги\n",
    "max_analysis_date = data['service_date'].max()\n",
    "print('Максимальная дата оказания медицинской услуги:', max_analysis_date)"
   ]
  },
  {
   "cell_type": "markdown",
   "id": "b9280976",
   "metadata": {},
   "source": [
    "У нас имеются данные с 3 января 2021 года по 31 августа 2022 года."
   ]
  },
  {
   "cell_type": "code",
   "execution_count": 13,
   "id": "c5998b29",
   "metadata": {},
   "outputs": [
    {
     "data": {
      "text/html": [
       "<div>\n",
       "<style scoped>\n",
       "    .dataframe tbody tr th:only-of-type {\n",
       "        vertical-align: middle;\n",
       "    }\n",
       "\n",
       "    .dataframe tbody tr th {\n",
       "        vertical-align: top;\n",
       "    }\n",
       "\n",
       "    .dataframe thead th {\n",
       "        text-align: right;\n",
       "    }\n",
       "</style>\n",
       "<table border=\"1\" class=\"dataframe\">\n",
       "  <thead>\n",
       "    <tr style=\"text-align: right;\">\n",
       "      <th></th>\n",
       "      <th>service_name</th>\n",
       "    </tr>\n",
       "  </thead>\n",
       "  <tbody>\n",
       "    <tr>\n",
       "      <th>Прием первичный</th>\n",
       "      <td>6053</td>\n",
       "    </tr>\n",
       "    <tr>\n",
       "      <th>Прием повторный</th>\n",
       "      <td>4474</td>\n",
       "    </tr>\n",
       "    <tr>\n",
       "      <th>Взятие крови из периферической вены</th>\n",
       "      <td>4214</td>\n",
       "    </tr>\n",
       "    <tr>\n",
       "      <th>Общий анализ крови (лейкоцитарная форм,, СОЭ)</th>\n",
       "      <td>3189</td>\n",
       "    </tr>\n",
       "    <tr>\n",
       "      <th>Магнитотерапия (1 сеанс)</th>\n",
       "      <td>2838</td>\n",
       "    </tr>\n",
       "    <tr>\n",
       "      <th>...</th>\n",
       "      <td>...</td>\n",
       "    </tr>\n",
       "    <tr>\n",
       "      <th>Коагуляция при носовом кровотечении р/х ножом</th>\n",
       "      <td>1</td>\n",
       "    </tr>\n",
       "    <tr>\n",
       "      <th>Введение турунды с лекарственными формами в нос</th>\n",
       "      <td>1</td>\n",
       "    </tr>\n",
       "    <tr>\n",
       "      <th>Андростендион</th>\n",
       "      <td>1</td>\n",
       "    </tr>\n",
       "    <tr>\n",
       "      <th>МРТ локтевого сустава</th>\n",
       "      <td>1</td>\n",
       "    </tr>\n",
       "    <tr>\n",
       "      <th>Ренин</th>\n",
       "      <td>1</td>\n",
       "    </tr>\n",
       "  </tbody>\n",
       "</table>\n",
       "<p>875 rows × 1 columns</p>\n",
       "</div>"
      ],
      "text/plain": [
       "                                                 service_name\n",
       "Прием первичный                                          6053\n",
       "Прием повторный                                          4474\n",
       "Взятие крови из периферической вены                      4214\n",
       "Общий анализ крови (лейкоцитарная форм,, СОЭ)            3189\n",
       "Магнитотерапия (1 сеанс)                                 2838\n",
       "...                                                       ...\n",
       "Коагуляция при носовом кровотечении р/х ножом               1\n",
       "Введение турунды с лекарственными формами в нос             1\n",
       "Андростендион                                               1\n",
       "МРТ локтевого сустава                                       1\n",
       "Ренин                                                       1\n",
       "\n",
       "[875 rows x 1 columns]"
      ]
     },
     "execution_count": 13,
     "metadata": {},
     "output_type": "execute_result"
    }
   ],
   "source": [
    "# Рассмотрим наименования медицинских услуг\n",
    "data['service_name'].value_counts().to_frame()"
   ]
  },
  {
   "cell_type": "markdown",
   "id": "5e35d275",
   "metadata": {},
   "source": [
    "Данные содержат информацию о 875 уникальных медицинских услугах, самыми популярными из которых являются: \n",
    "- Приём первичный;\n",
    "- Приём повторный;\n",
    "- Взятие крови из периферической вены."
   ]
  },
  {
   "cell_type": "code",
   "execution_count": 14,
   "id": "b9e2b7c3",
   "metadata": {},
   "outputs": [
    {
     "data": {
      "text/html": [
       "<div>\n",
       "<style scoped>\n",
       "    .dataframe tbody tr th:only-of-type {\n",
       "        vertical-align: middle;\n",
       "    }\n",
       "\n",
       "    .dataframe tbody tr th {\n",
       "        vertical-align: top;\n",
       "    }\n",
       "\n",
       "    .dataframe thead th {\n",
       "        text-align: right;\n",
       "    }\n",
       "</style>\n",
       "<table border=\"1\" class=\"dataframe\">\n",
       "  <thead>\n",
       "    <tr style=\"text-align: right;\">\n",
       "      <th></th>\n",
       "      <th>service_amount</th>\n",
       "    </tr>\n",
       "  </thead>\n",
       "  <tbody>\n",
       "    <tr>\n",
       "      <th>count</th>\n",
       "      <td>85348.000000</td>\n",
       "    </tr>\n",
       "    <tr>\n",
       "      <th>mean</th>\n",
       "      <td>1166.124783</td>\n",
       "    </tr>\n",
       "    <tr>\n",
       "      <th>std</th>\n",
       "      <td>799.064738</td>\n",
       "    </tr>\n",
       "    <tr>\n",
       "      <th>min</th>\n",
       "      <td>147.000000</td>\n",
       "    </tr>\n",
       "    <tr>\n",
       "      <th>25%</th>\n",
       "      <td>550.000000</td>\n",
       "    </tr>\n",
       "    <tr>\n",
       "      <th>50%</th>\n",
       "      <td>1155.000000</td>\n",
       "    </tr>\n",
       "    <tr>\n",
       "      <th>75%</th>\n",
       "      <td>1530.000000</td>\n",
       "    </tr>\n",
       "    <tr>\n",
       "      <th>max</th>\n",
       "      <td>26999.000000</td>\n",
       "    </tr>\n",
       "  </tbody>\n",
       "</table>\n",
       "</div>"
      ],
      "text/plain": [
       "       service_amount\n",
       "count    85348.000000\n",
       "mean      1166.124783\n",
       "std        799.064738\n",
       "min        147.000000\n",
       "25%        550.000000\n",
       "50%       1155.000000\n",
       "75%       1530.000000\n",
       "max      26999.000000"
      ]
     },
     "execution_count": 14,
     "metadata": {},
     "output_type": "execute_result"
    }
   ],
   "source": [
    "# Рассмотрим столбец со стоимостью оказанных услуг\n",
    "data['service_amount'].describe().to_frame()"
   ]
  },
  {
   "cell_type": "markdown",
   "id": "96e5cbb2",
   "metadata": {},
   "source": [
    "Минимальная стоимость оказанных услуг составляет 147 руб., максимальная - 26 999 руб. В среднем стоимость оказанных медицинских услуг составляет 1 166 руб. Отрицательных значений нет, данные выглядят корректно."
   ]
  },
  {
   "cell_type": "code",
   "execution_count": 15,
   "id": "3facd242",
   "metadata": {},
   "outputs": [
    {
     "data": {
      "text/html": [
       "<div>\n",
       "<style scoped>\n",
       "    .dataframe tbody tr th:only-of-type {\n",
       "        vertical-align: middle;\n",
       "    }\n",
       "\n",
       "    .dataframe tbody tr th {\n",
       "        vertical-align: top;\n",
       "    }\n",
       "\n",
       "    .dataframe thead th {\n",
       "        text-align: right;\n",
       "    }\n",
       "</style>\n",
       "<table border=\"1\" class=\"dataframe\">\n",
       "  <thead>\n",
       "    <tr style=\"text-align: right;\">\n",
       "      <th></th>\n",
       "      <th>service_number</th>\n",
       "    </tr>\n",
       "  </thead>\n",
       "  <tbody>\n",
       "    <tr>\n",
       "      <th>1</th>\n",
       "      <td>83786</td>\n",
       "    </tr>\n",
       "    <tr>\n",
       "      <th>2</th>\n",
       "      <td>1373</td>\n",
       "    </tr>\n",
       "    <tr>\n",
       "      <th>3</th>\n",
       "      <td>135</td>\n",
       "    </tr>\n",
       "    <tr>\n",
       "      <th>4</th>\n",
       "      <td>26</td>\n",
       "    </tr>\n",
       "    <tr>\n",
       "      <th>5</th>\n",
       "      <td>10</td>\n",
       "    </tr>\n",
       "    <tr>\n",
       "      <th>6</th>\n",
       "      <td>1</td>\n",
       "    </tr>\n",
       "    <tr>\n",
       "      <th>7</th>\n",
       "      <td>4</td>\n",
       "    </tr>\n",
       "    <tr>\n",
       "      <th>11</th>\n",
       "      <td>1</td>\n",
       "    </tr>\n",
       "    <tr>\n",
       "      <th>12</th>\n",
       "      <td>2</td>\n",
       "    </tr>\n",
       "    <tr>\n",
       "      <th>13</th>\n",
       "      <td>5</td>\n",
       "    </tr>\n",
       "    <tr>\n",
       "      <th>14</th>\n",
       "      <td>2</td>\n",
       "    </tr>\n",
       "    <tr>\n",
       "      <th>15</th>\n",
       "      <td>1</td>\n",
       "    </tr>\n",
       "    <tr>\n",
       "      <th>16</th>\n",
       "      <td>2</td>\n",
       "    </tr>\n",
       "  </tbody>\n",
       "</table>\n",
       "</div>"
      ],
      "text/plain": [
       "    service_number\n",
       "1            83786\n",
       "2             1373\n",
       "3              135\n",
       "4               26\n",
       "5               10\n",
       "6                1\n",
       "7                4\n",
       "11               1\n",
       "12               2\n",
       "13               5\n",
       "14               2\n",
       "15               1\n",
       "16               2"
      ]
     },
     "execution_count": 15,
     "metadata": {},
     "output_type": "execute_result"
    }
   ],
   "source": [
    "# Рассмотрим столбец с количеством услуг\n",
    "data['service_number'].value_counts().sort_index().to_frame()"
   ]
  },
  {
   "cell_type": "markdown",
   "id": "d9e05436",
   "metadata": {},
   "source": [
    "Чаще всего за медицинской услугой обращались 1 раз."
   ]
  },
  {
   "cell_type": "code",
   "execution_count": 16,
   "id": "be2cce65",
   "metadata": {},
   "outputs": [
    {
     "name": "stdout",
     "output_type": "stream",
     "text": [
      "Количество уникальных пациентов: 4487\n"
     ]
    }
   ],
   "source": [
    "# Определим количество уникальных пациентов\n",
    "insured_count = data['insured'].nunique()\n",
    "print('Количество уникальных пациентов:', insured_count)\n"
   ]
  },
  {
   "cell_type": "code",
   "execution_count": 17,
   "id": "e077df83",
   "metadata": {},
   "outputs": [
    {
     "data": {
      "text/html": [
       "<div>\n",
       "<style scoped>\n",
       "    .dataframe tbody tr th:only-of-type {\n",
       "        vertical-align: middle;\n",
       "    }\n",
       "\n",
       "    .dataframe tbody tr th {\n",
       "        vertical-align: top;\n",
       "    }\n",
       "\n",
       "    .dataframe thead th {\n",
       "        text-align: right;\n",
       "    }\n",
       "</style>\n",
       "<table border=\"1\" class=\"dataframe\">\n",
       "  <thead>\n",
       "    <tr style=\"text-align: right;\">\n",
       "      <th></th>\n",
       "      <th>service_name</th>\n",
       "    </tr>\n",
       "  </thead>\n",
       "  <tbody>\n",
       "    <tr>\n",
       "      <th>Прием первичный</th>\n",
       "      <td>6053</td>\n",
       "    </tr>\n",
       "    <tr>\n",
       "      <th>Прием повторный</th>\n",
       "      <td>4474</td>\n",
       "    </tr>\n",
       "    <tr>\n",
       "      <th>Взятие крови из периферической вены</th>\n",
       "      <td>4214</td>\n",
       "    </tr>\n",
       "    <tr>\n",
       "      <th>Общий анализ крови (лейкоцитарная форм,, СОЭ)</th>\n",
       "      <td>3189</td>\n",
       "    </tr>\n",
       "    <tr>\n",
       "      <th>Магнитотерапия (1 сеанс)</th>\n",
       "      <td>2838</td>\n",
       "    </tr>\n",
       "    <tr>\n",
       "      <th>Взятие мазка</th>\n",
       "      <td>1567</td>\n",
       "    </tr>\n",
       "    <tr>\n",
       "      <th>Общий анализ мочи</th>\n",
       "      <td>1549</td>\n",
       "    </tr>\n",
       "    <tr>\n",
       "      <th>Лазеротерапия (1 сеанс)</th>\n",
       "      <td>1313</td>\n",
       "    </tr>\n",
       "    <tr>\n",
       "      <th>Интерференционные токи (1 сеанс) (4 поля)</th>\n",
       "      <td>1195</td>\n",
       "    </tr>\n",
       "    <tr>\n",
       "      <th>Гинекологический мазок</th>\n",
       "      <td>1194</td>\n",
       "    </tr>\n",
       "    <tr>\n",
       "      <th>Прием трапевта, первичный</th>\n",
       "      <td>1157</td>\n",
       "    </tr>\n",
       "    <tr>\n",
       "      <th>Прием гинеколога, повторный</th>\n",
       "      <td>1139</td>\n",
       "    </tr>\n",
       "    <tr>\n",
       "      <th>Рефрактометрия</th>\n",
       "      <td>909</td>\n",
       "    </tr>\n",
       "    <tr>\n",
       "      <th>Прием отоларинголога, первичный</th>\n",
       "      <td>871</td>\n",
       "    </tr>\n",
       "    <tr>\n",
       "      <th>Интерпретация ЭКГ с описанием</th>\n",
       "      <td>859</td>\n",
       "    </tr>\n",
       "  </tbody>\n",
       "</table>\n",
       "</div>"
      ],
      "text/plain": [
       "                                               service_name\n",
       "Прием первичный                                        6053\n",
       "Прием повторный                                        4474\n",
       "Взятие крови из периферической вены                    4214\n",
       "Общий анализ крови (лейкоцитарная форм,, СОЭ)          3189\n",
       "Магнитотерапия (1 сеанс)                               2838\n",
       "Взятие мазка                                           1567\n",
       "Общий анализ мочи                                      1549\n",
       "Лазеротерапия (1 сеанс)                                1313\n",
       "Интерференционные токи (1 сеанс) (4 поля)              1195\n",
       "Гинекологический мазок                                 1194\n",
       "Прием трапевта, первичный                              1157\n",
       "Прием гинеколога, повторный                            1139\n",
       "Рефрактометрия                                          909\n",
       "Прием отоларинголога, первичный                         871\n",
       "Интерпретация ЭКГ с описанием                           859"
      ]
     },
     "execution_count": 17,
     "metadata": {},
     "output_type": "execute_result"
    }
   ],
   "source": [
    "# Рассмотрим столбец с полом пациента\n",
    "# Выведем наименования медицинских услуг, чтобы определить какие из них точно относятся к женщинам\n",
    "data['service_name'].value_counts().head(15).to_frame()"
   ]
  },
  {
   "cell_type": "code",
   "execution_count": 18,
   "id": "13c7c0ba",
   "metadata": {},
   "outputs": [
    {
     "data": {
      "text/html": [
       "<div>\n",
       "<style scoped>\n",
       "    .dataframe tbody tr th:only-of-type {\n",
       "        vertical-align: middle;\n",
       "    }\n",
       "\n",
       "    .dataframe tbody tr th {\n",
       "        vertical-align: top;\n",
       "    }\n",
       "\n",
       "    .dataframe thead th {\n",
       "        text-align: right;\n",
       "    }\n",
       "</style>\n",
       "<table border=\"1\" class=\"dataframe\">\n",
       "  <thead>\n",
       "    <tr style=\"text-align: right;\">\n",
       "      <th></th>\n",
       "      <th>record_id</th>\n",
       "      <th>service_date</th>\n",
       "      <th>service_name</th>\n",
       "      <th>service_amount</th>\n",
       "      <th>service_number</th>\n",
       "      <th>insured</th>\n",
       "      <th>sex_id</th>\n",
       "      <th>age_for_service_date</th>\n",
       "      <th>year</th>\n",
       "      <th>month</th>\n",
       "    </tr>\n",
       "  </thead>\n",
       "  <tbody>\n",
       "    <tr>\n",
       "      <th>36074</th>\n",
       "      <td>31680572803</td>\n",
       "      <td>2021-11-22</td>\n",
       "      <td>Прием гинеколога, повторный</td>\n",
       "      <td>1380</td>\n",
       "      <td>1</td>\n",
       "      <td>743967</td>\n",
       "      <td>2.0</td>\n",
       "      <td>25</td>\n",
       "      <td>2021</td>\n",
       "      <td>11</td>\n",
       "    </tr>\n",
       "    <tr>\n",
       "      <th>36097</th>\n",
       "      <td>31680575103</td>\n",
       "      <td>2021-11-26</td>\n",
       "      <td>Прием гинеколога, повторный</td>\n",
       "      <td>1380</td>\n",
       "      <td>1</td>\n",
       "      <td>716050</td>\n",
       "      <td>2.0</td>\n",
       "      <td>26</td>\n",
       "      <td>2021</td>\n",
       "      <td>11</td>\n",
       "    </tr>\n",
       "    <tr>\n",
       "      <th>36112</th>\n",
       "      <td>31680576703</td>\n",
       "      <td>2021-11-12</td>\n",
       "      <td>Прием гинеколога, повторный</td>\n",
       "      <td>1380</td>\n",
       "      <td>1</td>\n",
       "      <td>716129</td>\n",
       "      <td>2.0</td>\n",
       "      <td>29</td>\n",
       "      <td>2021</td>\n",
       "      <td>11</td>\n",
       "    </tr>\n",
       "    <tr>\n",
       "      <th>36131</th>\n",
       "      <td>31680578603</td>\n",
       "      <td>2021-11-22</td>\n",
       "      <td>Прием гинеколога, повторный</td>\n",
       "      <td>1380</td>\n",
       "      <td>1</td>\n",
       "      <td>512591</td>\n",
       "      <td>2.0</td>\n",
       "      <td>41</td>\n",
       "      <td>2021</td>\n",
       "      <td>11</td>\n",
       "    </tr>\n",
       "    <tr>\n",
       "      <th>36238</th>\n",
       "      <td>31680589503</td>\n",
       "      <td>2021-11-05</td>\n",
       "      <td>Прием гинеколога, повторный</td>\n",
       "      <td>1380</td>\n",
       "      <td>1</td>\n",
       "      <td>544894</td>\n",
       "      <td>2.0</td>\n",
       "      <td>39</td>\n",
       "      <td>2021</td>\n",
       "      <td>11</td>\n",
       "    </tr>\n",
       "    <tr>\n",
       "      <th>...</th>\n",
       "      <td>...</td>\n",
       "      <td>...</td>\n",
       "      <td>...</td>\n",
       "      <td>...</td>\n",
       "      <td>...</td>\n",
       "      <td>...</td>\n",
       "      <td>...</td>\n",
       "      <td>...</td>\n",
       "      <td>...</td>\n",
       "      <td>...</td>\n",
       "    </tr>\n",
       "    <tr>\n",
       "      <th>85119</th>\n",
       "      <td>33178109503</td>\n",
       "      <td>2022-08-22</td>\n",
       "      <td>Прием гинеколога, повторный</td>\n",
       "      <td>1450</td>\n",
       "      <td>1</td>\n",
       "      <td>1302647</td>\n",
       "      <td>2.0</td>\n",
       "      <td>33</td>\n",
       "      <td>2022</td>\n",
       "      <td>8</td>\n",
       "    </tr>\n",
       "    <tr>\n",
       "      <th>85252</th>\n",
       "      <td>33178132803</td>\n",
       "      <td>2022-08-08</td>\n",
       "      <td>Прием гинеколога, повторный</td>\n",
       "      <td>1450</td>\n",
       "      <td>1</td>\n",
       "      <td>1154902</td>\n",
       "      <td>2.0</td>\n",
       "      <td>40</td>\n",
       "      <td>2022</td>\n",
       "      <td>8</td>\n",
       "    </tr>\n",
       "    <tr>\n",
       "      <th>85255</th>\n",
       "      <td>33178133103</td>\n",
       "      <td>2022-08-10</td>\n",
       "      <td>Прием гинеколога, повторный</td>\n",
       "      <td>1450</td>\n",
       "      <td>1</td>\n",
       "      <td>1154902</td>\n",
       "      <td>2.0</td>\n",
       "      <td>40</td>\n",
       "      <td>2022</td>\n",
       "      <td>8</td>\n",
       "    </tr>\n",
       "    <tr>\n",
       "      <th>85256</th>\n",
       "      <td>33178133203</td>\n",
       "      <td>2022-08-29</td>\n",
       "      <td>Прием гинеколога, повторный</td>\n",
       "      <td>1450</td>\n",
       "      <td>1</td>\n",
       "      <td>1154902</td>\n",
       "      <td>2.0</td>\n",
       "      <td>40</td>\n",
       "      <td>2022</td>\n",
       "      <td>8</td>\n",
       "    </tr>\n",
       "    <tr>\n",
       "      <th>85267</th>\n",
       "      <td>33178135803</td>\n",
       "      <td>2022-08-23</td>\n",
       "      <td>Прием гинеколога, повторный</td>\n",
       "      <td>1450</td>\n",
       "      <td>1</td>\n",
       "      <td>935341</td>\n",
       "      <td>2.0</td>\n",
       "      <td>30</td>\n",
       "      <td>2022</td>\n",
       "      <td>8</td>\n",
       "    </tr>\n",
       "  </tbody>\n",
       "</table>\n",
       "<p>1139 rows × 10 columns</p>\n",
       "</div>"
      ],
      "text/plain": [
       "         record_id service_date                 service_name  service_amount  \\\n",
       "36074  31680572803   2021-11-22  Прием гинеколога, повторный            1380   \n",
       "36097  31680575103   2021-11-26  Прием гинеколога, повторный            1380   \n",
       "36112  31680576703   2021-11-12  Прием гинеколога, повторный            1380   \n",
       "36131  31680578603   2021-11-22  Прием гинеколога, повторный            1380   \n",
       "36238  31680589503   2021-11-05  Прием гинеколога, повторный            1380   \n",
       "...            ...          ...                          ...             ...   \n",
       "85119  33178109503   2022-08-22  Прием гинеколога, повторный            1450   \n",
       "85252  33178132803   2022-08-08  Прием гинеколога, повторный            1450   \n",
       "85255  33178133103   2022-08-10  Прием гинеколога, повторный            1450   \n",
       "85256  33178133203   2022-08-29  Прием гинеколога, повторный            1450   \n",
       "85267  33178135803   2022-08-23  Прием гинеколога, повторный            1450   \n",
       "\n",
       "       service_number  insured  sex_id  age_for_service_date  year  month  \n",
       "36074               1   743967     2.0                    25  2021     11  \n",
       "36097               1   716050     2.0                    26  2021     11  \n",
       "36112               1   716129     2.0                    29  2021     11  \n",
       "36131               1   512591     2.0                    41  2021     11  \n",
       "36238               1   544894     2.0                    39  2021     11  \n",
       "...               ...      ...     ...                   ...   ...    ...  \n",
       "85119               1  1302647     2.0                    33  2022      8  \n",
       "85252               1  1154902     2.0                    40  2022      8  \n",
       "85255               1  1154902     2.0                    40  2022      8  \n",
       "85256               1  1154902     2.0                    40  2022      8  \n",
       "85267               1   935341     2.0                    30  2022      8  \n",
       "\n",
       "[1139 rows x 10 columns]"
      ]
     },
     "execution_count": 18,
     "metadata": {},
     "output_type": "execute_result"
    }
   ],
   "source": [
    "# Определим что означают значения 1.0 и 2.0\n",
    "data.query('service_name == \"Прием гинеколога, повторный\"')"
   ]
  },
  {
   "cell_type": "markdown",
   "id": "0873d76d",
   "metadata": {},
   "source": [
    "Можно сделать вывод, что значения столбца sex_id 2.0 относится к женщиам, а 1.0 к мужчинам."
   ]
  },
  {
   "cell_type": "code",
   "execution_count": 19,
   "id": "3239f0a4",
   "metadata": {},
   "outputs": [],
   "source": [
    "# Для более наглядного вывода значений столбца sex_id, заменим категорию пола\n",
    "data.loc[data['sex_id']==1.0, 'sex_id'] = 'male'\n",
    "data.loc[data['sex_id']==2.0, 'sex_id'] = 'female'"
   ]
  },
  {
   "cell_type": "code",
   "execution_count": 20,
   "id": "87c0d77d",
   "metadata": {},
   "outputs": [
    {
     "data": {
      "text/html": [
       "<div>\n",
       "<style scoped>\n",
       "    .dataframe tbody tr th:only-of-type {\n",
       "        vertical-align: middle;\n",
       "    }\n",
       "\n",
       "    .dataframe tbody tr th {\n",
       "        vertical-align: top;\n",
       "    }\n",
       "\n",
       "    .dataframe thead th {\n",
       "        text-align: right;\n",
       "    }\n",
       "</style>\n",
       "<table border=\"1\" class=\"dataframe\">\n",
       "  <thead>\n",
       "    <tr style=\"text-align: right;\">\n",
       "      <th></th>\n",
       "      <th>sex_id</th>\n",
       "    </tr>\n",
       "  </thead>\n",
       "  <tbody>\n",
       "    <tr>\n",
       "      <th>female</th>\n",
       "      <td>52804</td>\n",
       "    </tr>\n",
       "    <tr>\n",
       "      <th>male</th>\n",
       "      <td>32544</td>\n",
       "    </tr>\n",
       "  </tbody>\n",
       "</table>\n",
       "</div>"
      ],
      "text/plain": [
       "        sex_id\n",
       "female   52804\n",
       "male     32544"
      ]
     },
     "execution_count": 20,
     "metadata": {},
     "output_type": "execute_result"
    }
   ],
   "source": [
    "# Посмотрим на количество пользователей в каждой группе\n",
    "data['sex_id'].value_counts().to_frame()"
   ]
  },
  {
   "cell_type": "markdown",
   "id": "c7c236ea",
   "metadata": {},
   "source": [
    "Женщин, обратившихся за медицинскими услугами примерно в 1.5 раза больше, чем мужчин."
   ]
  },
  {
   "cell_type": "code",
   "execution_count": 21,
   "id": "90212671",
   "metadata": {},
   "outputs": [
    {
     "data": {
      "text/html": [
       "<div>\n",
       "<style scoped>\n",
       "    .dataframe tbody tr th:only-of-type {\n",
       "        vertical-align: middle;\n",
       "    }\n",
       "\n",
       "    .dataframe tbody tr th {\n",
       "        vertical-align: top;\n",
       "    }\n",
       "\n",
       "    .dataframe thead th {\n",
       "        text-align: right;\n",
       "    }\n",
       "</style>\n",
       "<table border=\"1\" class=\"dataframe\">\n",
       "  <thead>\n",
       "    <tr style=\"text-align: right;\">\n",
       "      <th></th>\n",
       "      <th>age_for_service_date</th>\n",
       "    </tr>\n",
       "  </thead>\n",
       "  <tbody>\n",
       "    <tr>\n",
       "      <th>count</th>\n",
       "      <td>85348.000000</td>\n",
       "    </tr>\n",
       "    <tr>\n",
       "      <th>mean</th>\n",
       "      <td>33.852873</td>\n",
       "    </tr>\n",
       "    <tr>\n",
       "      <th>std</th>\n",
       "      <td>12.145506</td>\n",
       "    </tr>\n",
       "    <tr>\n",
       "      <th>min</th>\n",
       "      <td>0.000000</td>\n",
       "    </tr>\n",
       "    <tr>\n",
       "      <th>25%</th>\n",
       "      <td>27.000000</td>\n",
       "    </tr>\n",
       "    <tr>\n",
       "      <th>50%</th>\n",
       "      <td>34.000000</td>\n",
       "    </tr>\n",
       "    <tr>\n",
       "      <th>75%</th>\n",
       "      <td>41.000000</td>\n",
       "    </tr>\n",
       "    <tr>\n",
       "      <th>max</th>\n",
       "      <td>83.000000</td>\n",
       "    </tr>\n",
       "  </tbody>\n",
       "</table>\n",
       "</div>"
      ],
      "text/plain": [
       "       age_for_service_date\n",
       "count          85348.000000\n",
       "mean              33.852873\n",
       "std               12.145506\n",
       "min                0.000000\n",
       "25%               27.000000\n",
       "50%               34.000000\n",
       "75%               41.000000\n",
       "max               83.000000"
      ]
     },
     "execution_count": 21,
     "metadata": {},
     "output_type": "execute_result"
    }
   ],
   "source": [
    "# Рассмотрим столбец содержащий возраст пациента\n",
    "data['age_for_service_date'].describe().to_frame()"
   ]
  },
  {
   "cell_type": "markdown",
   "id": "cedbe7d0",
   "metadata": {},
   "source": [
    "Минимальный возраст пациента, обратившегося в клинику составляет 0 лет, максимальный - 83 года. Среднем возраст пациента составляет 34 года. Отрицательных значений нет, данные выглядят корректно."
   ]
  },
  {
   "cell_type": "markdown",
   "id": "394bec68",
   "metadata": {},
   "source": [
    "**Вывод:**\n",
    "- Имеются данные с 3 января 2021 года по 31 августа 2022 года;\n",
    "- Данные содержат информацию о 875 уникальных медицинских услугах, самыми популярными из которых являются: \n",
    "  - Приём первичный;\n",
    "  - Приём повторный;\n",
    "  - Взятие крови из периферической вены.\n",
    "- Минимальная стоимость оказанных услуг составляет 147 руб., максимальная - 26 999 руб. В среднем стоимость оказанных медицинских услуг составляет 1 166 руб.;\n",
    "- Чаще всего за медицинской услугой обращались 1 раз;\n",
    "- Количество уникальных пациентов: 4487;\n",
    "- Женщин, обратившихся за медицинскими услугами примерно в 1.5 раза больше, чем мужчин;\n",
    "- Минимальный возраст пациента, обратившегося в клинику составляет 0 лет, максимальный - 83 года. Среднем возраст пациента составляет 34 года."
   ]
  },
  {
   "cell_type": "markdown",
   "id": "296bddeb",
   "metadata": {},
   "source": [
    "## 3 Исследование данных и проверка гипотез"
   ]
  },
  {
   "cell_type": "markdown",
   "id": "1377cd22",
   "metadata": {},
   "source": [
    "Так как, у нас имеются данные за неполный 2022 год, и учитывая сезонность обращений за медицинскими услугами, сделаем срез по данным 2021 года, чтобы сравнивать данные за одинаковый период времени."
   ]
  },
  {
   "cell_type": "code",
   "execution_count": 22,
   "id": "26ee60e5",
   "metadata": {},
   "outputs": [],
   "source": [
    "# Добавим столбец с ценой за 1 услугу\n",
    "data['cost'] = data['service_amount'] / data['service_number']"
   ]
  },
  {
   "cell_type": "code",
   "execution_count": 23,
   "id": "cede8137",
   "metadata": {},
   "outputs": [],
   "source": [
    "# Создадим отдельную таблицу с данными за 2021 год\n",
    "data_2021 = data.query('year == 2021 and month <= 8')"
   ]
  },
  {
   "cell_type": "code",
   "execution_count": 24,
   "id": "63bcd17c",
   "metadata": {},
   "outputs": [],
   "source": [
    "# Создадим отдельную таблицу с данными за 2022 год\n",
    "data_2022 = data.query('year == 2022')"
   ]
  },
  {
   "cell_type": "markdown",
   "id": "941c2a0b",
   "metadata": {},
   "source": [
    "### 3.1 Анализ изменения цен на услуги"
   ]
  },
  {
   "cell_type": "code",
   "execution_count": 25,
   "id": "2445b031",
   "metadata": {},
   "outputs": [
    {
     "data": {
      "text/html": [
       "<div>\n",
       "<style scoped>\n",
       "    .dataframe tbody tr th:only-of-type {\n",
       "        vertical-align: middle;\n",
       "    }\n",
       "\n",
       "    .dataframe tbody tr th {\n",
       "        vertical-align: top;\n",
       "    }\n",
       "\n",
       "    .dataframe thead th {\n",
       "        text-align: right;\n",
       "    }\n",
       "</style>\n",
       "<table border=\"1\" class=\"dataframe\">\n",
       "  <thead>\n",
       "    <tr style=\"text-align: right;\">\n",
       "      <th></th>\n",
       "      <th>service_name</th>\n",
       "      <th>service_amount</th>\n",
       "    </tr>\n",
       "  </thead>\n",
       "  <tbody>\n",
       "    <tr>\n",
       "      <th>398</th>\n",
       "      <td>Прием первичный</td>\n",
       "      <td>6575595</td>\n",
       "    </tr>\n",
       "    <tr>\n",
       "      <th>399</th>\n",
       "      <td>Прием повторный</td>\n",
       "      <td>4322396</td>\n",
       "    </tr>\n",
       "    <tr>\n",
       "      <th>291</th>\n",
       "      <td>Магнитотерапия (1 сеанс)</td>\n",
       "      <td>838240</td>\n",
       "    </tr>\n",
       "    <tr>\n",
       "      <th>243</th>\n",
       "      <td>Комплексная мануальная терапия</td>\n",
       "      <td>749700</td>\n",
       "    </tr>\n",
       "    <tr>\n",
       "      <th>321</th>\n",
       "      <td>Общий анализ крови (лейкоцитарная форм,, СОЭ)</td>\n",
       "      <td>688842</td>\n",
       "    </tr>\n",
       "    <tr>\n",
       "      <th>476</th>\n",
       "      <td>Сеанс рефлексотерапии</td>\n",
       "      <td>571851</td>\n",
       "    </tr>\n",
       "    <tr>\n",
       "      <th>533</th>\n",
       "      <td>Ультразвуковое исследование гинекология трансв...</td>\n",
       "      <td>508200</td>\n",
       "    </tr>\n",
       "    <tr>\n",
       "      <th>529</th>\n",
       "      <td>Ультразвуковое исследование брюшной полости</td>\n",
       "      <td>432600</td>\n",
       "    </tr>\n",
       "    <tr>\n",
       "      <th>550</th>\n",
       "      <td>Ультразвуковое исследование щитовидной железы ...</td>\n",
       "      <td>393120</td>\n",
       "    </tr>\n",
       "    <tr>\n",
       "      <th>191</th>\n",
       "      <td>Интерференционные токи (1 сеанс) (4 поля)</td>\n",
       "      <td>380640</td>\n",
       "    </tr>\n",
       "  </tbody>\n",
       "</table>\n",
       "</div>"
      ],
      "text/plain": [
       "                                          service_name  service_amount\n",
       "398                                    Прием первичный         6575595\n",
       "399                                    Прием повторный         4322396\n",
       "291                           Магнитотерапия (1 сеанс)          838240\n",
       "243                     Комплексная мануальная терапия          749700\n",
       "321      Общий анализ крови (лейкоцитарная форм,, СОЭ)          688842\n",
       "476                              Сеанс рефлексотерапии          571851\n",
       "533  Ультразвуковое исследование гинекология трансв...          508200\n",
       "529        Ультразвуковое исследование брюшной полости          432600\n",
       "550  Ультразвуковое исследование щитовидной железы ...          393120\n",
       "191          Интерференционные токи (1 сеанс) (4 поля)          380640"
      ]
     },
     "execution_count": 25,
     "metadata": {},
     "output_type": "execute_result"
    }
   ],
   "source": [
    "# Группировка данных по услугам и вычисление суммарной выручки за 2021 год\n",
    "grouped_data_2021 = data_2021.groupby('service_name')['service_amount'].sum().reset_index()\n",
    "\n",
    "# Сортировка данных по убыванию и выбор топ-10\n",
    "top_10_services_2021 = grouped_data_2021.sort_values('service_amount', ascending=False).head(10)\n",
    "\n",
    "# Вывод результата\n",
    "top_10_services_2021"
   ]
  },
  {
   "cell_type": "code",
   "execution_count": 26,
   "id": "8076ac08",
   "metadata": {},
   "outputs": [],
   "source": [
    "# Напишем функцию форматирования валюты для более гибкого отображения\n",
    "def currency(x, pos):\n",
    "    'Два аргумента - это значение и позиция отметки.'\n",
    "    if x >= 1000000:\n",
    "        return '{:1.1f}M'.format(x*1e-6)\n",
    "    return '{:1.0f}K'.format(x*1e-3)"
   ]
  },
  {
   "cell_type": "code",
   "execution_count": 27,
   "id": "b6a7470c",
   "metadata": {},
   "outputs": [
    {
     "data": {
      "image/png": "[encoded data removed]",
      "text/plain": [
       "<Figure size 1000x600 with 1 Axes>"
      ]
     },
     "metadata": {},
     "output_type": "display_data"
    }
   ],
   "source": [
    "# Отобразим результат графически\n",
    "fig, ax = plt.subplots(figsize=(10, 6))\n",
    "sns.barplot(y=top_10_services_2021[\"service_name\"], x=top_10_services_2021[\"service_amount\"], ax=ax, palette='viridis')\n",
    "ax.set(title='Топ-10 услуг по выручке за 2021 год', xlabel='Сумма выплат, руб.', ylabel='Наименование медицинской услуги')\n",
    "formatter = FuncFormatter(currency)\n",
    "ax.xaxis.set_major_formatter(formatter)"
   ]
  },
  {
   "cell_type": "markdown",
   "id": "5a8fcad8",
   "metadata": {},
   "source": [
    "**Вывод:** Наибольшую выручку в 2021 году принесла медицинская услуга *Прием первичный* - 6 575 595 рублей. Затем идет услуга *Прием повторный* - 4 322 396 рублей, и *Магнитотерапия (1 сеанс)* - 838 240 руб."
   ]
  },
  {
   "cell_type": "code",
   "execution_count": 28,
   "id": "30c1fbfd",
   "metadata": {},
   "outputs": [
    {
     "data": {
      "text/html": [
       "<div>\n",
       "<style scoped>\n",
       "    .dataframe tbody tr th:only-of-type {\n",
       "        vertical-align: middle;\n",
       "    }\n",
       "\n",
       "    .dataframe tbody tr th {\n",
       "        vertical-align: top;\n",
       "    }\n",
       "\n",
       "    .dataframe thead th {\n",
       "        text-align: right;\n",
       "    }\n",
       "</style>\n",
       "<table border=\"1\" class=\"dataframe\">\n",
       "  <thead>\n",
       "    <tr style=\"text-align: right;\">\n",
       "      <th></th>\n",
       "      <th>service_name</th>\n",
       "      <th>service_amount</th>\n",
       "    </tr>\n",
       "  </thead>\n",
       "  <tbody>\n",
       "    <tr>\n",
       "      <th>291</th>\n",
       "      <td>Магнитотерапия (1 сеанс)</td>\n",
       "      <td>1588620</td>\n",
       "    </tr>\n",
       "    <tr>\n",
       "      <th>447</th>\n",
       "      <td>Прием трапевта, первичный</td>\n",
       "      <td>1452930</td>\n",
       "    </tr>\n",
       "    <tr>\n",
       "      <th>402</th>\n",
       "      <td>Прием гинеколога, повторный</td>\n",
       "      <td>1343760</td>\n",
       "    </tr>\n",
       "    <tr>\n",
       "      <th>325</th>\n",
       "      <td>Общий анализ крови (лейкоцитарная форм,, СОЭ)</td>\n",
       "      <td>1128850</td>\n",
       "    </tr>\n",
       "    <tr>\n",
       "      <th>421</th>\n",
       "      <td>Прием отоларинголога, первичный</td>\n",
       "      <td>1118820</td>\n",
       "    </tr>\n",
       "    <tr>\n",
       "      <th>256</th>\n",
       "      <td>Комплексная мануальная терапия</td>\n",
       "      <td>1096300</td>\n",
       "    </tr>\n",
       "    <tr>\n",
       "      <th>414</th>\n",
       "      <td>Прием невролога, первичный</td>\n",
       "      <td>1072920</td>\n",
       "    </tr>\n",
       "    <tr>\n",
       "      <th>609</th>\n",
       "      <td>Ультразвуковое исследование гинекология трансв...</td>\n",
       "      <td>1016540</td>\n",
       "    </tr>\n",
       "    <tr>\n",
       "      <th>425</th>\n",
       "      <td>Прием офтальмолога,  первичный</td>\n",
       "      <td>821520</td>\n",
       "    </tr>\n",
       "    <tr>\n",
       "      <th>401</th>\n",
       "      <td>Прием гинеколога, первичный</td>\n",
       "      <td>811220</td>\n",
       "    </tr>\n",
       "  </tbody>\n",
       "</table>\n",
       "</div>"
      ],
      "text/plain": [
       "                                          service_name  service_amount\n",
       "291                           Магнитотерапия (1 сеанс)         1588620\n",
       "447                          Прием трапевта, первичный         1452930\n",
       "402                        Прием гинеколога, повторный         1343760\n",
       "325      Общий анализ крови (лейкоцитарная форм,, СОЭ)         1128850\n",
       "421                    Прием отоларинголога, первичный         1118820\n",
       "256                     Комплексная мануальная терапия         1096300\n",
       "414                         Прием невролога, первичный         1072920\n",
       "609  Ультразвуковое исследование гинекология трансв...         1016540\n",
       "425                     Прием офтальмолога,  первичный          821520\n",
       "401                        Прием гинеколога, первичный          811220"
      ]
     },
     "execution_count": 28,
     "metadata": {},
     "output_type": "execute_result"
    }
   ],
   "source": [
    "# Группировка данных по услугам и вычисление суммарной выручки за 2022 год\n",
    "grouped_data_2022 = data_2022.groupby('service_name')['service_amount'].sum().reset_index()\n",
    "\n",
    "# Сортировка данных по убыванию и выбор топ-10\n",
    "top_10_services_2022 = grouped_data_2022.sort_values('service_amount', ascending=False).head(10)\n",
    "\n",
    "# Вывод результата\n",
    "top_10_services_2022"
   ]
  },
  {
   "cell_type": "code",
   "execution_count": 29,
   "id": "7c578b08",
   "metadata": {},
   "outputs": [
    {
     "data": {
      "image/png": "[encoded data removed]",
      "text/plain": [
       "<Figure size 1000x600 with 1 Axes>"
      ]
     },
     "metadata": {},
     "output_type": "display_data"
    }
   ],
   "source": [
    "# Отобразим результат графически\n",
    "fig, ax = plt.subplots(figsize=(10, 6))\n",
    "sns.barplot(y=top_10_services_2022[\"service_name\"], x=top_10_services_2022[\"service_amount\"], ax=ax, palette='viridis')\n",
    "ax.set(title='Топ-10 услуг по выручке за 2022 год', xlabel='Сумма выплат, руб.', ylabel='Наименование медицинской услуги')\n",
    "formatter = FuncFormatter(currency)\n",
    "ax.xaxis.set_major_formatter(formatter)"
   ]
  },
  {
   "cell_type": "markdown",
   "id": "244d4e68",
   "metadata": {},
   "source": [
    "**Вывод:** Наибольшую выручку в 2022 году принесла медицинская услуга *Магнитотерапия (1 сеанс)* - 1 588 620 рублей. Затем идет услуга *Прием терапевта, первичный* - 1 452 930 рублей, и *Прием гинеколога, повторный* - 1 343 760 руб."
   ]
  },
  {
   "cell_type": "code",
   "execution_count": 30,
   "id": "c4b4ac03",
   "metadata": {},
   "outputs": [
    {
     "name": "stdout",
     "output_type": "stream",
     "text": [
      "Сумма выручки за 8 месяцев 2021 года: 29935637\n",
      "Сумма выручки за 8 месяцев 2022 года: 48986662\n"
     ]
    }
   ],
   "source": [
    "# Посчитаем выручку за 2021 и 2022 года\n",
    "print('Сумма выручки за 8 месяцев 2021 года:', data_2021['service_amount'].sum())\n",
    "print('Сумма выручки за 8 месяцев 2022 года:', data_2022['service_amount'].sum())"
   ]
  },
  {
   "cell_type": "code",
   "execution_count": 31,
   "id": "6d817b0f",
   "metadata": {},
   "outputs": [
    {
     "data": {
      "text/html": [
       "<div>\n",
       "<style scoped>\n",
       "    .dataframe tbody tr th:only-of-type {\n",
       "        vertical-align: middle;\n",
       "    }\n",
       "\n",
       "    .dataframe tbody tr th {\n",
       "        vertical-align: top;\n",
       "    }\n",
       "\n",
       "    .dataframe thead th {\n",
       "        text-align: right;\n",
       "    }\n",
       "</style>\n",
       "<table border=\"1\" class=\"dataframe\">\n",
       "  <thead>\n",
       "    <tr style=\"text-align: right;\">\n",
       "      <th></th>\n",
       "      <th>service_name</th>\n",
       "      <th>cost_2021</th>\n",
       "    </tr>\n",
       "  </thead>\n",
       "  <tbody>\n",
       "    <tr>\n",
       "      <th>0</th>\n",
       "      <td>Прием первичный</td>\n",
       "      <td>1470.0</td>\n",
       "    </tr>\n",
       "    <tr>\n",
       "      <th>1</th>\n",
       "      <td>Взятие материала на посев, цитологическое иссл...</td>\n",
       "      <td>284.0</td>\n",
       "    </tr>\n",
       "    <tr>\n",
       "      <th>2</th>\n",
       "      <td>Посев отдел, дыхательных путей - слизистая зев...</td>\n",
       "      <td>1134.0</td>\n",
       "    </tr>\n",
       "    <tr>\n",
       "      <th>3</th>\n",
       "      <td>Общий анализ крови (лейкоцитарная форм,, СОЭ)</td>\n",
       "      <td>693.0</td>\n",
       "    </tr>\n",
       "    <tr>\n",
       "      <th>4</th>\n",
       "      <td>Ревматоидный фактор</td>\n",
       "      <td>420.0</td>\n",
       "    </tr>\n",
       "    <tr>\n",
       "      <th>...</th>\n",
       "      <td>...</td>\n",
       "      <td>...</td>\n",
       "    </tr>\n",
       "    <tr>\n",
       "      <th>26710</th>\n",
       "      <td>Прием повторный</td>\n",
       "      <td>1313.0</td>\n",
       "    </tr>\n",
       "    <tr>\n",
       "      <th>26711</th>\n",
       "      <td>Прием повторный</td>\n",
       "      <td>1313.0</td>\n",
       "    </tr>\n",
       "    <tr>\n",
       "      <th>26712</th>\n",
       "      <td>Железо сывороточное</td>\n",
       "      <td>287.0</td>\n",
       "    </tr>\n",
       "    <tr>\n",
       "      <th>26713</th>\n",
       "      <td>ОЖСС (общая железосвязывающая способность)</td>\n",
       "      <td>242.0</td>\n",
       "    </tr>\n",
       "    <tr>\n",
       "      <th>26714</th>\n",
       "      <td>Ферритин</td>\n",
       "      <td>667.0</td>\n",
       "    </tr>\n",
       "  </tbody>\n",
       "</table>\n",
       "<p>26715 rows × 2 columns</p>\n",
       "</div>"
      ],
      "text/plain": [
       "                                            service_name  cost_2021\n",
       "0                                        Прием первичный     1470.0\n",
       "1      Взятие материала на посев, цитологическое иссл...      284.0\n",
       "2      Посев отдел, дыхательных путей - слизистая зев...     1134.0\n",
       "3          Общий анализ крови (лейкоцитарная форм,, СОЭ)      693.0\n",
       "4                                    Ревматоидный фактор      420.0\n",
       "...                                                  ...        ...\n",
       "26710                                    Прием повторный     1313.0\n",
       "26711                                    Прием повторный     1313.0\n",
       "26712                                Железо сывороточное      287.0\n",
       "26713         ОЖСС (общая железосвязывающая способность)      242.0\n",
       "26714                                           Ферритин      667.0\n",
       "\n",
       "[26715 rows x 2 columns]"
      ]
     },
     "execution_count": 31,
     "metadata": {},
     "output_type": "execute_result"
    }
   ],
   "source": [
    "# Рассмотрим стоимость услуг в 2021 году\n",
    "data_2021 = data_2021.rename(columns={'cost':'cost_2021'})\n",
    "data_2021\n",
    "data_service_amount_2021 = data_2021[['service_name','cost_2021']].reset_index(drop=True)\n",
    "data_service_amount_2021"
   ]
  },
  {
   "cell_type": "code",
   "execution_count": 32,
   "id": "a518dad4",
   "metadata": {},
   "outputs": [
    {
     "data": {
      "text/html": [
       "<div>\n",
       "<style scoped>\n",
       "    .dataframe tbody tr th:only-of-type {\n",
       "        vertical-align: middle;\n",
       "    }\n",
       "\n",
       "    .dataframe tbody tr th {\n",
       "        vertical-align: top;\n",
       "    }\n",
       "\n",
       "    .dataframe thead th {\n",
       "        text-align: right;\n",
       "    }\n",
       "</style>\n",
       "<table border=\"1\" class=\"dataframe\">\n",
       "  <thead>\n",
       "    <tr style=\"text-align: right;\">\n",
       "      <th></th>\n",
       "      <th>service_name</th>\n",
       "      <th>cost_2022</th>\n",
       "    </tr>\n",
       "  </thead>\n",
       "  <tbody>\n",
       "    <tr>\n",
       "      <th>0</th>\n",
       "      <td>Магнитотерапия (1 сеанс)</td>\n",
       "      <td>1090.0</td>\n",
       "    </tr>\n",
       "    <tr>\n",
       "      <th>1</th>\n",
       "      <td>СМТ-форез (1 сеанс) (2 поля)</td>\n",
       "      <td>950.0</td>\n",
       "    </tr>\n",
       "    <tr>\n",
       "      <th>2</th>\n",
       "      <td>Прием невролога, повторный</td>\n",
       "      <td>1380.0</td>\n",
       "    </tr>\n",
       "    <tr>\n",
       "      <th>3</th>\n",
       "      <td>Магнитотерапия (1 сеанс)</td>\n",
       "      <td>1090.0</td>\n",
       "    </tr>\n",
       "    <tr>\n",
       "      <th>4</th>\n",
       "      <td>Прием физиотерапевта, повторный</td>\n",
       "      <td>1380.0</td>\n",
       "    </tr>\n",
       "    <tr>\n",
       "      <th>...</th>\n",
       "      <td>...</td>\n",
       "      <td>...</td>\n",
       "    </tr>\n",
       "    <tr>\n",
       "      <th>40972</th>\n",
       "      <td>Общий анализ мочи</td>\n",
       "      <td>495.0</td>\n",
       "    </tr>\n",
       "    <tr>\n",
       "      <th>40973</th>\n",
       "      <td>Общий анализ крови (лейкоцитарная форм,, СОЭ)</td>\n",
       "      <td>800.0</td>\n",
       "    </tr>\n",
       "    <tr>\n",
       "      <th>40974</th>\n",
       "      <td>АЧТВ (активированное частичное тромбопластинов...</td>\n",
       "      <td>300.0</td>\n",
       "    </tr>\n",
       "    <tr>\n",
       "      <th>40975</th>\n",
       "      <td>Протромбин (МНО)</td>\n",
       "      <td>410.0</td>\n",
       "    </tr>\n",
       "    <tr>\n",
       "      <th>40976</th>\n",
       "      <td>Гепатит В HbsAg</td>\n",
       "      <td>570.0</td>\n",
       "    </tr>\n",
       "  </tbody>\n",
       "</table>\n",
       "<p>40977 rows × 2 columns</p>\n",
       "</div>"
      ],
      "text/plain": [
       "                                            service_name  cost_2022\n",
       "0                               Магнитотерапия (1 сеанс)     1090.0\n",
       "1                           СМТ-форез (1 сеанс) (2 поля)      950.0\n",
       "2                             Прием невролога, повторный     1380.0\n",
       "3                               Магнитотерапия (1 сеанс)     1090.0\n",
       "4                        Прием физиотерапевта, повторный     1380.0\n",
       "...                                                  ...        ...\n",
       "40972                                  Общий анализ мочи      495.0\n",
       "40973      Общий анализ крови (лейкоцитарная форм,, СОЭ)      800.0\n",
       "40974  АЧТВ (активированное частичное тромбопластинов...      300.0\n",
       "40975                                   Протромбин (МНО)      410.0\n",
       "40976                                    Гепатит В HbsAg      570.0\n",
       "\n",
       "[40977 rows x 2 columns]"
      ]
     },
     "execution_count": 32,
     "metadata": {},
     "output_type": "execute_result"
    }
   ],
   "source": [
    "# Рассмотрим стоимость услуг в 2022 году\n",
    "data_2022 = data_2022.rename(columns={'cost':'cost_2022'})\n",
    "data_service_amount_2022 = data_2022[['service_name','cost_2022']].reset_index(drop=True)\n",
    "data_service_amount_2022"
   ]
  },
  {
   "cell_type": "code",
   "execution_count": 33,
   "id": "6c2202d0",
   "metadata": {},
   "outputs": [
    {
     "data": {
      "text/html": [
       "<div>\n",
       "<style scoped>\n",
       "    .dataframe tbody tr th:only-of-type {\n",
       "        vertical-align: middle;\n",
       "    }\n",
       "\n",
       "    .dataframe tbody tr th {\n",
       "        vertical-align: top;\n",
       "    }\n",
       "\n",
       "    .dataframe thead th {\n",
       "        text-align: right;\n",
       "    }\n",
       "</style>\n",
       "<table border=\"1\" class=\"dataframe\">\n",
       "  <thead>\n",
       "    <tr style=\"text-align: right;\">\n",
       "      <th></th>\n",
       "      <th>service_name</th>\n",
       "      <th>cost_2021</th>\n",
       "      <th>cost_2022</th>\n",
       "    </tr>\n",
       "  </thead>\n",
       "  <tbody>\n",
       "    <tr>\n",
       "      <th>0</th>\n",
       "      <td>Взятие материала на посев, цитологическое иссл...</td>\n",
       "      <td>284.0</td>\n",
       "      <td>300.0</td>\n",
       "    </tr>\n",
       "    <tr>\n",
       "      <th>1</th>\n",
       "      <td>Взятие материала на посев, цитологическое иссл...</td>\n",
       "      <td>284.0</td>\n",
       "      <td>330.0</td>\n",
       "    </tr>\n",
       "    <tr>\n",
       "      <th>2</th>\n",
       "      <td>Посев отдел, дыхательных путей - слизистая зев...</td>\n",
       "      <td>1134.0</td>\n",
       "      <td>1190.0</td>\n",
       "    </tr>\n",
       "    <tr>\n",
       "      <th>3</th>\n",
       "      <td>Посев отдел, дыхательных путей - слизистая зев...</td>\n",
       "      <td>1134.0</td>\n",
       "      <td>1200.0</td>\n",
       "    </tr>\n",
       "    <tr>\n",
       "      <th>4</th>\n",
       "      <td>Общий анализ крови (лейкоцитарная форм,, СОЭ)</td>\n",
       "      <td>693.0</td>\n",
       "      <td>730.0</td>\n",
       "    </tr>\n",
       "  </tbody>\n",
       "</table>\n",
       "</div>"
      ],
      "text/plain": [
       "                                        service_name  cost_2021  cost_2022\n",
       "0  Взятие материала на посев, цитологическое иссл...      284.0      300.0\n",
       "1  Взятие материала на посев, цитологическое иссл...      284.0      330.0\n",
       "2  Посев отдел, дыхательных путей - слизистая зев...     1134.0     1190.0\n",
       "3  Посев отдел, дыхательных путей - слизистая зев...     1134.0     1200.0\n",
       "4      Общий анализ крови (лейкоцитарная форм,, СОЭ)      693.0      730.0"
      ]
     },
     "execution_count": 33,
     "metadata": {},
     "output_type": "execute_result"
    }
   ],
   "source": [
    "# Объединим таблицы стоимости услуг по годам\n",
    "data_2021_2022 = data_service_amount_2021.merge(data_service_amount_2022, on='service_name')\n",
    "data_2021_2022 = data_2021_2022.drop_duplicates().reset_index(drop=True)\n",
    "data_2021_2022.head()"
   ]
  },
  {
   "cell_type": "code",
   "execution_count": 34,
   "id": "4edbdd3e",
   "metadata": {},
   "outputs": [
    {
     "data": {
      "text/html": [
       "<div>\n",
       "<style scoped>\n",
       "    .dataframe tbody tr th:only-of-type {\n",
       "        vertical-align: middle;\n",
       "    }\n",
       "\n",
       "    .dataframe tbody tr th {\n",
       "        vertical-align: top;\n",
       "    }\n",
       "\n",
       "    .dataframe thead th {\n",
       "        text-align: right;\n",
       "    }\n",
       "</style>\n",
       "<table border=\"1\" class=\"dataframe\">\n",
       "  <thead>\n",
       "    <tr style=\"text-align: right;\">\n",
       "      <th></th>\n",
       "      <th>service_name</th>\n",
       "      <th>cost_2021</th>\n",
       "      <th>cost_2022</th>\n",
       "    </tr>\n",
       "  </thead>\n",
       "  <tbody>\n",
       "    <tr>\n",
       "      <th>0</th>\n",
       "      <td>(Б1 (11))Аллергопанель IgE шерсть кошки, шерст...</td>\n",
       "      <td>1449.0</td>\n",
       "      <td>1520.0</td>\n",
       "    </tr>\n",
       "    <tr>\n",
       "      <th>1</th>\n",
       "      <td>25-OH витамин D (25-гидроксихолекальциферол)</td>\n",
       "      <td>3255.0</td>\n",
       "      <td>3420.0</td>\n",
       "    </tr>\n",
       "    <tr>\n",
       "      <th>2</th>\n",
       "      <td>CMV (цитомегаловирус) (Кровь)</td>\n",
       "      <td>378.0</td>\n",
       "      <td>400.0</td>\n",
       "    </tr>\n",
       "    <tr>\n",
       "      <th>3</th>\n",
       "      <td>CMV (цитомегаловирус) (Слюна)</td>\n",
       "      <td>378.0</td>\n",
       "      <td>400.0</td>\n",
       "    </tr>\n",
       "    <tr>\n",
       "      <th>4</th>\n",
       "      <td>CMV (цитомегаловирус) (Соскоб)</td>\n",
       "      <td>378.0</td>\n",
       "      <td>400.0</td>\n",
       "    </tr>\n",
       "    <tr>\n",
       "      <th>...</th>\n",
       "      <td>...</td>\n",
       "      <td>...</td>\n",
       "      <td>...</td>\n",
       "    </tr>\n",
       "    <tr>\n",
       "      <th>434</th>\n",
       "      <td>Эпителий собаки</td>\n",
       "      <td>1155.0</td>\n",
       "      <td>1210.0</td>\n",
       "    </tr>\n",
       "    <tr>\n",
       "      <th>435</th>\n",
       "      <td>Эстрадиол</td>\n",
       "      <td>630.0</td>\n",
       "      <td>680.0</td>\n",
       "    </tr>\n",
       "    <tr>\n",
       "      <th>436</th>\n",
       "      <td>Эхокардиография с допплеровским анализом</td>\n",
       "      <td>3465.0</td>\n",
       "      <td>3820.0</td>\n",
       "    </tr>\n",
       "    <tr>\n",
       "      <th>437</th>\n",
       "      <td>альфа-амилаза</td>\n",
       "      <td>287.0</td>\n",
       "      <td>315.0</td>\n",
       "    </tr>\n",
       "    <tr>\n",
       "      <th>438</th>\n",
       "      <td>бета-ХГЧ (бета-хорионический гонадотропин)</td>\n",
       "      <td>756.0</td>\n",
       "      <td>795.0</td>\n",
       "    </tr>\n",
       "  </tbody>\n",
       "</table>\n",
       "<p>439 rows × 3 columns</p>\n",
       "</div>"
      ],
      "text/plain": [
       "                                          service_name  cost_2021  cost_2022\n",
       "0    (Б1 (11))Аллергопанель IgE шерсть кошки, шерст...     1449.0     1520.0\n",
       "1         25-OH витамин D (25-гидроксихолекальциферол)     3255.0     3420.0\n",
       "2                        CMV (цитомегаловирус) (Кровь)      378.0      400.0\n",
       "3                        CMV (цитомегаловирус) (Слюна)      378.0      400.0\n",
       "4                       CMV (цитомегаловирус) (Соскоб)      378.0      400.0\n",
       "..                                                 ...        ...        ...\n",
       "434                                    Эпителий собаки     1155.0     1210.0\n",
       "435                                          Эстрадиол      630.0      680.0\n",
       "436           Эхокардиография с допплеровским анализом     3465.0     3820.0\n",
       "437                                      альфа-амилаза      287.0      315.0\n",
       "438         бета-ХГЧ (бета-хорионический гонадотропин)      756.0      795.0\n",
       "\n",
       "[439 rows x 3 columns]"
      ]
     },
     "execution_count": 34,
     "metadata": {},
     "output_type": "execute_result"
    }
   ],
   "source": [
    "# Составим таблицу средней стоимости услуг за 2021 и 2022 года\n",
    "cost_2021_2022 = data_2021_2022.groupby('service_name').agg({'cost_2021':'mean', 'cost_2022':'mean'}).reset_index()\n",
    "cost_2021_2022"
   ]
  },
  {
   "cell_type": "code",
   "execution_count": 35,
   "id": "6e8a467c",
   "metadata": {},
   "outputs": [
    {
     "data": {
      "text/html": [
       "<div>\n",
       "<style scoped>\n",
       "    .dataframe tbody tr th:only-of-type {\n",
       "        vertical-align: middle;\n",
       "    }\n",
       "\n",
       "    .dataframe tbody tr th {\n",
       "        vertical-align: top;\n",
       "    }\n",
       "\n",
       "    .dataframe thead th {\n",
       "        text-align: right;\n",
       "    }\n",
       "</style>\n",
       "<table border=\"1\" class=\"dataframe\">\n",
       "  <thead>\n",
       "    <tr style=\"text-align: right;\">\n",
       "      <th></th>\n",
       "      <th>service_name</th>\n",
       "      <th>cost_2021</th>\n",
       "      <th>cost_2022</th>\n",
       "      <th>percent</th>\n",
       "    </tr>\n",
       "  </thead>\n",
       "  <tbody>\n",
       "    <tr>\n",
       "      <th>0</th>\n",
       "      <td>(Б1 (11))Аллергопанель IgE шерсть кошки, шерст...</td>\n",
       "      <td>1449.0</td>\n",
       "      <td>1520.0</td>\n",
       "      <td>4.90</td>\n",
       "    </tr>\n",
       "    <tr>\n",
       "      <th>1</th>\n",
       "      <td>25-OH витамин D (25-гидроксихолекальциферол)</td>\n",
       "      <td>3255.0</td>\n",
       "      <td>3420.0</td>\n",
       "      <td>5.07</td>\n",
       "    </tr>\n",
       "    <tr>\n",
       "      <th>2</th>\n",
       "      <td>CMV (цитомегаловирус) (Кровь)</td>\n",
       "      <td>378.0</td>\n",
       "      <td>400.0</td>\n",
       "      <td>5.82</td>\n",
       "    </tr>\n",
       "    <tr>\n",
       "      <th>3</th>\n",
       "      <td>CMV (цитомегаловирус) (Слюна)</td>\n",
       "      <td>378.0</td>\n",
       "      <td>400.0</td>\n",
       "      <td>5.82</td>\n",
       "    </tr>\n",
       "    <tr>\n",
       "      <th>4</th>\n",
       "      <td>CMV (цитомегаловирус) (Соскоб)</td>\n",
       "      <td>378.0</td>\n",
       "      <td>400.0</td>\n",
       "      <td>5.82</td>\n",
       "    </tr>\n",
       "    <tr>\n",
       "      <th>...</th>\n",
       "      <td>...</td>\n",
       "      <td>...</td>\n",
       "      <td>...</td>\n",
       "      <td>...</td>\n",
       "    </tr>\n",
       "    <tr>\n",
       "      <th>434</th>\n",
       "      <td>Эпителий собаки</td>\n",
       "      <td>1155.0</td>\n",
       "      <td>1210.0</td>\n",
       "      <td>4.76</td>\n",
       "    </tr>\n",
       "    <tr>\n",
       "      <th>435</th>\n",
       "      <td>Эстрадиол</td>\n",
       "      <td>630.0</td>\n",
       "      <td>680.0</td>\n",
       "      <td>7.94</td>\n",
       "    </tr>\n",
       "    <tr>\n",
       "      <th>436</th>\n",
       "      <td>Эхокардиография с допплеровским анализом</td>\n",
       "      <td>3465.0</td>\n",
       "      <td>3820.0</td>\n",
       "      <td>10.25</td>\n",
       "    </tr>\n",
       "    <tr>\n",
       "      <th>437</th>\n",
       "      <td>альфа-амилаза</td>\n",
       "      <td>287.0</td>\n",
       "      <td>315.0</td>\n",
       "      <td>9.76</td>\n",
       "    </tr>\n",
       "    <tr>\n",
       "      <th>438</th>\n",
       "      <td>бета-ХГЧ (бета-хорионический гонадотропин)</td>\n",
       "      <td>756.0</td>\n",
       "      <td>795.0</td>\n",
       "      <td>5.16</td>\n",
       "    </tr>\n",
       "  </tbody>\n",
       "</table>\n",
       "<p>439 rows × 4 columns</p>\n",
       "</div>"
      ],
      "text/plain": [
       "                                          service_name  cost_2021  cost_2022  \\\n",
       "0    (Б1 (11))Аллергопанель IgE шерсть кошки, шерст...     1449.0     1520.0   \n",
       "1         25-OH витамин D (25-гидроксихолекальциферол)     3255.0     3420.0   \n",
       "2                        CMV (цитомегаловирус) (Кровь)      378.0      400.0   \n",
       "3                        CMV (цитомегаловирус) (Слюна)      378.0      400.0   \n",
       "4                       CMV (цитомегаловирус) (Соскоб)      378.0      400.0   \n",
       "..                                                 ...        ...        ...   \n",
       "434                                    Эпителий собаки     1155.0     1210.0   \n",
       "435                                          Эстрадиол      630.0      680.0   \n",
       "436           Эхокардиография с допплеровским анализом     3465.0     3820.0   \n",
       "437                                      альфа-амилаза      287.0      315.0   \n",
       "438         бета-ХГЧ (бета-хорионический гонадотропин)      756.0      795.0   \n",
       "\n",
       "     percent  \n",
       "0       4.90  \n",
       "1       5.07  \n",
       "2       5.82  \n",
       "3       5.82  \n",
       "4       5.82  \n",
       "..       ...  \n",
       "434     4.76  \n",
       "435     7.94  \n",
       "436    10.25  \n",
       "437     9.76  \n",
       "438     5.16  \n",
       "\n",
       "[439 rows x 4 columns]"
      ]
     },
     "execution_count": 35,
     "metadata": {},
     "output_type": "execute_result"
    }
   ],
   "source": [
    "# Добавим в таблицу столбец с % изменения средней стоимости\n",
    "cost_2021_2022['percent'] = round((cost_2021_2022['cost_2022'] - cost_2021_2022['cost_2021']) /\n",
    "              cost_2021_2022['cost_2021'] * 100, 2)\n",
    "\n",
    "cost_2021_2022"
   ]
  },
  {
   "cell_type": "code",
   "execution_count": 36,
   "id": "c6aeb2ed",
   "metadata": {},
   "outputs": [
    {
     "data": {
      "text/plain": [
       "count    439.00\n",
       "mean       7.57\n",
       "std        4.19\n",
       "min      -25.83\n",
       "25%        5.09\n",
       "50%        6.73\n",
       "75%       10.03\n",
       "max       60.17\n",
       "Name: percent, dtype: float64"
      ]
     },
     "execution_count": 36,
     "metadata": {},
     "output_type": "execute_result"
    }
   ],
   "source": [
    "# Выведем список характерных статистических показателей\n",
    "cost_2021_2022['percent'].describe().round(2)"
   ]
  },
  {
   "cell_type": "markdown",
   "id": "1af3e91d",
   "metadata": {},
   "source": [
    "В среднем цены на услуги в 2022 году выросли на **7,6%**."
   ]
  },
  {
   "cell_type": "code",
   "execution_count": 37,
   "id": "91e6bb0c",
   "metadata": {},
   "outputs": [
    {
     "data": {
      "text/html": [
       "<div>\n",
       "<style scoped>\n",
       "    .dataframe tbody tr th:only-of-type {\n",
       "        vertical-align: middle;\n",
       "    }\n",
       "\n",
       "    .dataframe tbody tr th {\n",
       "        vertical-align: top;\n",
       "    }\n",
       "\n",
       "    .dataframe thead th {\n",
       "        text-align: right;\n",
       "    }\n",
       "</style>\n",
       "<table border=\"1\" class=\"dataframe\">\n",
       "  <thead>\n",
       "    <tr style=\"text-align: right;\">\n",
       "      <th></th>\n",
       "      <th>service_name</th>\n",
       "      <th>cost_2021</th>\n",
       "      <th>cost_2022</th>\n",
       "      <th>percent</th>\n",
       "    </tr>\n",
       "  </thead>\n",
       "  <tbody>\n",
       "    <tr>\n",
       "      <th>230</th>\n",
       "      <td>Общий анализ крови (лейкоцитарная форм,, СОЭ)</td>\n",
       "      <td>693.0</td>\n",
       "      <td>1110.000000</td>\n",
       "      <td>60.17</td>\n",
       "    </tr>\n",
       "    <tr>\n",
       "      <th>85</th>\n",
       "      <td>Взятие мазка</td>\n",
       "      <td>312.5</td>\n",
       "      <td>382.000000</td>\n",
       "      <td>22.24</td>\n",
       "    </tr>\n",
       "    <tr>\n",
       "      <th>124</th>\n",
       "      <td>Дуплексное сканирование вен нижних конечностей</td>\n",
       "      <td>2625.0</td>\n",
       "      <td>3166.666667</td>\n",
       "      <td>20.63</td>\n",
       "    </tr>\n",
       "    <tr>\n",
       "      <th>83</th>\n",
       "      <td>Введение лекарственных препаратов в наружный с...</td>\n",
       "      <td>263.0</td>\n",
       "      <td>308.000000</td>\n",
       "      <td>17.11</td>\n",
       "    </tr>\n",
       "    <tr>\n",
       "      <th>139</th>\n",
       "      <td>Интерпретация результатов Диаскинтеста</td>\n",
       "      <td>1103.0</td>\n",
       "      <td>1280.000000</td>\n",
       "      <td>16.05</td>\n",
       "    </tr>\n",
       "  </tbody>\n",
       "</table>\n",
       "</div>"
      ],
      "text/plain": [
       "                                          service_name  cost_2021  \\\n",
       "230      Общий анализ крови (лейкоцитарная форм,, СОЭ)      693.0   \n",
       "85                                        Взятие мазка      312.5   \n",
       "124     Дуплексное сканирование вен нижних конечностей     2625.0   \n",
       "83   Введение лекарственных препаратов в наружный с...      263.0   \n",
       "139             Интерпретация результатов Диаскинтеста     1103.0   \n",
       "\n",
       "       cost_2022  percent  \n",
       "230  1110.000000    60.17  \n",
       "85    382.000000    22.24  \n",
       "124  3166.666667    20.63  \n",
       "83    308.000000    17.11  \n",
       "139  1280.000000    16.05  "
      ]
     },
     "execution_count": 37,
     "metadata": {},
     "output_type": "execute_result"
    }
   ],
   "source": [
    "# Наиболее подорожавшие услуги\n",
    "cost_2021_2022.query('percent >= 8').sort_values('percent', ascending=False).head()"
   ]
  },
  {
   "cell_type": "markdown",
   "id": "e808c638",
   "metadata": {},
   "source": [
    "Больше всего в 2022 году подорожала медицинская услуга *Общий анализ крови (лейкоцитарная форм,, СОЭ)* - на 60%, затем идет услуга *Взятие мазка* - 22% и Дуплексное сканирование вен нижних конечностей - 21%."
   ]
  },
  {
   "cell_type": "code",
   "execution_count": 38,
   "id": "462c9e15",
   "metadata": {},
   "outputs": [
    {
     "data": {
      "text/html": [
       "<div>\n",
       "<style scoped>\n",
       "    .dataframe tbody tr th:only-of-type {\n",
       "        vertical-align: middle;\n",
       "    }\n",
       "\n",
       "    .dataframe tbody tr th {\n",
       "        vertical-align: top;\n",
       "    }\n",
       "\n",
       "    .dataframe thead th {\n",
       "        text-align: right;\n",
       "    }\n",
       "</style>\n",
       "<table border=\"1\" class=\"dataframe\">\n",
       "  <thead>\n",
       "    <tr style=\"text-align: right;\">\n",
       "      <th></th>\n",
       "      <th>service_name</th>\n",
       "      <th>cost_2021</th>\n",
       "      <th>cost_2022</th>\n",
       "      <th>percent</th>\n",
       "    </tr>\n",
       "  </thead>\n",
       "  <tbody>\n",
       "    <tr>\n",
       "      <th>149</th>\n",
       "      <td>Исследование мокроты</td>\n",
       "      <td>809.0</td>\n",
       "      <td>600.000000</td>\n",
       "      <td>-25.83</td>\n",
       "    </tr>\n",
       "    <tr>\n",
       "      <th>332</th>\n",
       "      <td>Рентгенография шейного отдела позвоночника (2 ...</td>\n",
       "      <td>1765.0</td>\n",
       "      <td>1605.000000</td>\n",
       "      <td>-9.07</td>\n",
       "    </tr>\n",
       "    <tr>\n",
       "      <th>386</th>\n",
       "      <td>Ультразвуковое исследование гинекология абдоми...</td>\n",
       "      <td>1890.0</td>\n",
       "      <td>1806.666667</td>\n",
       "      <td>-4.41</td>\n",
       "    </tr>\n",
       "  </tbody>\n",
       "</table>\n",
       "</div>"
      ],
      "text/plain": [
       "                                          service_name  cost_2021  \\\n",
       "149                               Исследование мокроты      809.0   \n",
       "332  Рентгенография шейного отдела позвоночника (2 ...     1765.0   \n",
       "386  Ультразвуковое исследование гинекология абдоми...     1890.0   \n",
       "\n",
       "       cost_2022  percent  \n",
       "149   600.000000   -25.83  \n",
       "332  1605.000000    -9.07  \n",
       "386  1806.666667    -4.41  "
      ]
     },
     "execution_count": 38,
     "metadata": {},
     "output_type": "execute_result"
    }
   ],
   "source": [
    "# Не подорожавшие услуги\n",
    "cost_2021_2022.query('percent <= 0').sort_values('percent')"
   ]
  },
  {
   "cell_type": "markdown",
   "id": "b27301f7",
   "metadata": {},
   "source": [
    "В 2022 году больше всего подешевела медицинская услуга *Исследование мокроты* - на 26%, затем идет уменьшение стоимости услуги *Рентгенография шейного отдела позвоночника* - 9% и *Ультразвуковое исследование гинекология* - 4%."
   ]
  },
  {
   "cell_type": "code",
   "execution_count": 39,
   "id": "cd5dbc59",
   "metadata": {},
   "outputs": [
    {
     "name": "stdout",
     "output_type": "stream",
     "text": [
      "Количество новых услуг в 2022 году: 240\n"
     ]
    }
   ],
   "source": [
    "# Рассмотрим сколько новых услуг появилось в 2022 году\n",
    "\n",
    "# Создание множества услуг за 2021 год\n",
    "services_2021 = set(data_2021['service_name'])\n",
    "# Создание множества услуг за 2022 год\n",
    "services_2022 = set(data_2022['service_name'])\n",
    "\n",
    "# Подсчет количества новых услуг в 2022 году\n",
    "new_services_count = len(services_2022 - services_2021)\n",
    "\n",
    "# Вывод результата\n",
    "print(\"Количество новых услуг в 2022 году:\", new_services_count)"
   ]
  },
  {
   "cell_type": "code",
   "execution_count": 40,
   "id": "601e203c",
   "metadata": {
    "scrolled": false
   },
   "outputs": [],
   "source": [
    "# Нахождение новых услуг в 2022 году (список большой, поэтому закомментирую код)\n",
    "# new_services = services_2022 - services_2021\n",
    "\n",
    "# Вывод списка новых услуг\n",
    "# print(\"Список новых услуг в 2022 году:\")\n",
    "# for service in new_services:\n",
    "   # print(service)"
   ]
  },
  {
   "cell_type": "markdown",
   "id": "10201f71",
   "metadata": {},
   "source": [
    "**Сформулируем гипотезы:**\n",
    "\n",
    "- Нулевая гипотеза: средняя стоимость обслуживания пациентов изменилась из-за изменения цен на услуги.\n",
    "- Альтернативная гипотеза: средняя стоимость обслуживания пациентов не изменилась из-за изменения цен на услуги."
   ]
  },
  {
   "cell_type": "markdown",
   "id": "bd08f319",
   "metadata": {},
   "source": [
    "Проверка гипотезы: проведем t-тест для двух независимых выборок. Выборки по размеру разные, поэтому параметр equal_var - False. Уровень статистической значимости зададим 5%."
   ]
  },
  {
   "cell_type": "code",
   "execution_count": 41,
   "id": "56a10c4f",
   "metadata": {},
   "outputs": [
    {
     "name": "stdout",
     "output_type": "stream",
     "text": [
      "p-значение: 2.072947672750582e-32\n",
      "Отвергаем нулевую гипотезу: разница статистически значима\n"
     ]
    }
   ],
   "source": [
    "alpha = 0.05  # критический уровень статистической значимости\n",
    "\n",
    "# Проведение t-теста \n",
    "results = st.ttest_ind(data_2021['service_amount'], data_2022['service_amount'], equal_var=False)\n",
    "\n",
    "# Вывод результатов\n",
    "print('p-значение:', results.pvalue)\n",
    "\n",
    "# Оценка статистической значимости\n",
    "if results.pvalue < alpha:\n",
    "    print('Отвергаем нулевую гипотезу: разница статистически значима')\n",
    "else:\n",
    "    print(\n",
    "        'Не получилось отвергнуть нулевую гипотезу, вывод о различии сделать нельзя'\n",
    "    ) "
   ]
  },
  {
   "cell_type": "markdown",
   "id": "f1de80b6",
   "metadata": {},
   "source": [
    "p-value = 2.072947672750582e-32 меньше 0.05. Значит, нулевую гипотезу о том, что средняя стоимость обслуживания пациентов изменилась из-за изменения цен на услуги, ***отвергаем***."
   ]
  },
  {
   "cell_type": "markdown",
   "id": "8dab7d0c",
   "metadata": {},
   "source": [
    "**Выводы:** \n",
    "\n",
    "- Наибольшую выручку в 2021 году принесла медицинская услуга *Прием первичный* - 6 575 595 рублей. Затем идет услуга *Прием повторный* - 4 322 396 рублей, и *Магнитотерапия (1 сеанс)* - 838 240 руб.;\n",
    "\n",
    "- Наибольшую выручку в 2022 году принесла медицинская услуга *Магнитотерапия (1 сеанс)* - 1 588 620 рублей. Затем идет услуга *Прием терапевта, первичный* - 1 452 930 рублей, и *Прием гинеколога, повторный* - 1 343 760 руб;\n",
    "\n",
    "- Сумма выручки за 8 месяцев 2021 года составила - 29 935 637 руб., а за аналогичный период 2022 года - 48 986 662 руб.;\n",
    "\n",
    "- В среднем цены на услуги в 2022 году выросли на **7,6%**;\n",
    "\n",
    "- Больше всего в 2022 году подорожала медицинская услуга *Общий анализ крови (лейкоцитарная форм,, СОЭ)* - на 60%, затем идет услуга *Взятие мазка* - 22% и Дуплексное сканирование вен нижних конечностей - 21%;\n",
    "\n",
    "- В 2022 году больше всего подешевела медицинская услуга *Исследование мокроты* - на 26%, затем идет уменьшение стоимости услуги *Рентгенография шейного отдела позвоночника* - 9% и *Ультразвуковое исследование гинекология* - 4%;\n",
    "\n",
    "- Количество новых услуг, добавленных в 2022 году составило **240 штук**."
   ]
  },
  {
   "cell_type": "markdown",
   "id": "c9b0b356",
   "metadata": {},
   "source": [
    "### 3.2 Анализ изменения гендерной структуры обслуживаемых пациентов"
   ]
  },
  {
   "cell_type": "code",
   "execution_count": 42,
   "id": "7b663337",
   "metadata": {},
   "outputs": [
    {
     "data": {
      "image/png": "[encoded data removed]",
      "text/plain": [
       "<Figure size 1000x500 with 2 Axes>"
      ]
     },
     "metadata": {},
     "output_type": "display_data"
    }
   ],
   "source": [
    "# Группируем данные по полу в 2021 году\n",
    "gender_counts_2021 = data_2021['sex_id'].value_counts()\n",
    "\n",
    "# Группируем данные по полу в 2022 году\n",
    "gender_counts_2022 = data_2022['sex_id'].value_counts()\n",
    "\n",
    "# Создаем круговую диаграмму\n",
    "fig, (ax1, ax2) = plt.subplots(1, 2, figsize=(10, 5))\n",
    "\n",
    "# Палитра цветов\n",
    "colors = ['#ff9999', '#66b3ff']\n",
    "\n",
    "# График для 2021 года\n",
    "ax1.pie(gender_counts_2021, labels=gender_counts_2021.index, autopct='%1.1f%%', colors=colors)\n",
    "ax1.set_title('Распределение пола пациентов в 2021 году')\n",
    "\n",
    "# График для 2022 года\n",
    "ax2.pie(gender_counts_2022, labels=gender_counts_2022.index, autopct='%1.1f%%', colors=colors)\n",
    "ax2.set_title('Распределение пола пациентов в 2022 году')\n",
    "\n",
    "plt.show()"
   ]
  },
  {
   "cell_type": "code",
   "execution_count": 43,
   "id": "034b145a",
   "metadata": {},
   "outputs": [
    {
     "data": {
      "text/html": [
       "<div>\n",
       "<style scoped>\n",
       "    .dataframe tbody tr th:only-of-type {\n",
       "        vertical-align: middle;\n",
       "    }\n",
       "\n",
       "    .dataframe tbody tr th {\n",
       "        vertical-align: top;\n",
       "    }\n",
       "\n",
       "    .dataframe thead th {\n",
       "        text-align: right;\n",
       "    }\n",
       "</style>\n",
       "<table border=\"1\" class=\"dataframe\">\n",
       "  <thead>\n",
       "    <tr style=\"text-align: right;\">\n",
       "      <th></th>\n",
       "      <th>2021</th>\n",
       "      <th>2022</th>\n",
       "    </tr>\n",
       "  </thead>\n",
       "  <tbody>\n",
       "    <tr>\n",
       "      <th>female</th>\n",
       "      <td>16544</td>\n",
       "      <td>25795</td>\n",
       "    </tr>\n",
       "    <tr>\n",
       "      <th>male</th>\n",
       "      <td>10171</td>\n",
       "      <td>15182</td>\n",
       "    </tr>\n",
       "  </tbody>\n",
       "</table>\n",
       "</div>"
      ],
      "text/plain": [
       "         2021   2022\n",
       "female  16544  25795\n",
       "male    10171  15182"
      ]
     },
     "execution_count": 43,
     "metadata": {},
     "output_type": "execute_result"
    }
   ],
   "source": [
    "# Создаем таблицу\n",
    "table_data = pd.DataFrame({'2021': gender_counts_2021, '2022': gender_counts_2022})\n",
    "table_data"
   ]
  },
  {
   "cell_type": "markdown",
   "id": "ae70013b",
   "metadata": {},
   "source": [
    "Доли мужчин и женщин от общего количества пациентов отличаются на 1%. В 2022 году доля мужчин сократилась, а доля женщин выросла."
   ]
  },
  {
   "cell_type": "markdown",
   "id": "27f80475",
   "metadata": {},
   "source": [
    "**Сформулируем гипотезы:**\n",
    "- Нулевая гипотеза: средняя стоимость обслуживания пациентов изменилась из-за изменения гендерной структуры обслуживаемых пациентов.\n",
    "- Альтернативная гипотеза: средняя стоимость обслуживания пациентов не изменилась из-за изменения гендерной структуры обслуживаемых пациентов."
   ]
  },
  {
   "cell_type": "markdown",
   "id": "a0d635d2",
   "metadata": {},
   "source": [
    "**Вывод:** Гендерная структура за аналогичный период 2021 и 2022 годов очень похожа, следовательно, отвергаем нулевую гипотезу в пользу альтернативной."
   ]
  },
  {
   "cell_type": "markdown",
   "id": "a06a1f8b",
   "metadata": {},
   "source": [
    "### 3.3 Анализ изменения возрастной структуры обслуживаемых пациентов"
   ]
  },
  {
   "cell_type": "code",
   "execution_count": 44,
   "id": "6075bb31",
   "metadata": {},
   "outputs": [
    {
     "data": {
      "image/png": "[encoded data removed]",
      "text/plain": [
       "<Figure size 640x480 with 1 Axes>"
      ]
     },
     "metadata": {},
     "output_type": "display_data"
    }
   ],
   "source": [
    "# Построение гистограммы для 2021 года\n",
    "plt.hist(data_2021['age_for_service_date'], bins=10, alpha=0.5, label='2021')\n",
    "# Построение гистограммы для 2022 года\n",
    "plt.hist(data_2022['age_for_service_date'], bins=10, alpha=0.5, label='2022')\n",
    "\n",
    "# Настройка осей и заголовка\n",
    "plt.xlabel('Возраст')\n",
    "plt.ylabel('Количество пациентов')\n",
    "plt.title('Распределение возрастной структуры пациентов за 2021 и 2022 года')\n",
    "\n",
    "# Добавление легенды\n",
    "plt.legend()\n",
    "\n",
    "# Добавление сетки\n",
    "plt.grid(True)\n",
    "\n",
    "# Отображение графика\n",
    "plt.show()"
   ]
  },
  {
   "cell_type": "code",
   "execution_count": 45,
   "id": "5917ccf2",
   "metadata": {},
   "outputs": [
    {
     "name": "stdout",
     "output_type": "stream",
     "text": [
      "2021 год\n",
      "count    26715.0\n",
      "mean        34.0\n",
      "std         13.0\n",
      "min          0.0\n",
      "25%         28.0\n",
      "50%         34.0\n",
      "75%         41.0\n",
      "max         83.0\n",
      "Name: age_for_service_date, dtype: float64\n",
      "\n",
      "2022 год\n",
      "count    40977.0\n",
      "mean        34.0\n",
      "std         12.0\n",
      "min          0.0\n",
      "25%         27.0\n",
      "50%         34.0\n",
      "75%         41.0\n",
      "max         75.0\n",
      "Name: age_for_service_date, dtype: float64\n"
     ]
    }
   ],
   "source": [
    "# выведем список характерных статистических показателей \n",
    "print('2021 год')\n",
    "print(data_2021['age_for_service_date'].describe().round())\n",
    "print()\n",
    "print('2022 год')\n",
    "print(data_2022['age_for_service_date'].describe().round())"
   ]
  },
  {
   "cell_type": "markdown",
   "id": "decb152f",
   "metadata": {},
   "source": [
    "**Вывод:** Распределение по возрасту идентично. В 2022 году число обращений увеличилось в 1.5 раза."
   ]
  },
  {
   "cell_type": "markdown",
   "id": "ed44c251",
   "metadata": {},
   "source": [
    "**Сформулируем гипотезы:**\n",
    "- Нулевая гипотеза: средняя стоимость обслуживания пациентов изменилась из-за изменения возрастной структуры пациентов.\n",
    "\n",
    "- Альтернативная гипотеза: средняя стоимость обслуживания пациентов не изменилась из-за изменения возрастной структуры пациентов."
   ]
  },
  {
   "cell_type": "code",
   "execution_count": 46,
   "id": "df094a02",
   "metadata": {},
   "outputs": [
    {
     "name": "stdout",
     "output_type": "stream",
     "text": [
      "p-значение: 3.63892930600857e-05\n",
      "Отвергаем нулевую гипотезу: разница статистически значима\n"
     ]
    }
   ],
   "source": [
    "alpha = 0.05  # критический уровень статистической значимости\n",
    "\n",
    "results = st.ttest_ind(data_2021['age_for_service_date'], data_2022['age_for_service_date'])\n",
    "\n",
    "print('p-значение:', results.pvalue)\n",
    "\n",
    "if results.pvalue < alpha:\n",
    "    print('Отвергаем нулевую гипотезу: разница статистически значима')\n",
    "else:\n",
    "    print(\n",
    "        'Не получилось отвергнуть нулевую гипотезу, вывод о различии сделать нельзя'\n",
    "    ) "
   ]
  },
  {
   "cell_type": "markdown",
   "id": "3a05214e",
   "metadata": {},
   "source": [
    "p-value = 3.63892930600857e-05 меньше 0.05. Значит, нулевую гипотезу о том, что средняя стоимость обслуживания пациентов изменилась из-за изменения возрастной структуры пациентов, ***отвергаем***."
   ]
  },
  {
   "cell_type": "markdown",
   "id": "434620fd",
   "metadata": {},
   "source": [
    "### 4 Общий вывод"
   ]
  },
  {
   "cell_type": "markdown",
   "id": "b30e0cca",
   "metadata": {},
   "source": [
    "Прежде чем исследовать данные была выполнена проверка на их корректность. Данные за 2022 год оказались неполными, следовательно по данным 2021 года был сделан срез, чтобы сравнивать данные за одинаковый период времени.\n",
    "\n",
    "Согласно анализу:\n",
    "\n",
    "- Сумма выручки за 8 месяцев 2021 года составила - 29 935 637 руб., а за аналогичный период 2022 года - 48 986 662 руб.;\n",
    "\n",
    "- В среднем цены на услуги в 2022 году выросли на 7,6%;\n",
    "\n",
    "- Количество новых услуг, добавленных в 2022 году составило 240 штук;\n",
    "\n",
    "- Доли мужчин и женщин от общего количества пациентов отличаются на 1%. В 2022 году доля мужчин сократилась, а доля женщин выросла;\n",
    "\n",
    "- Распределение по возрасту оказалось идентично. В 2022 году число обращений увеличилось в 1.5 раза.\n",
    "\n",
    "Таким образом, можно предположить, что ключевым драйвером для изменения стоимости лечения стало увеличение средней цены на 7,6% на услуги в 2022 году."
   ]
  }
 ],
 "metadata": {
  "kernelspec": {
   "display_name": "Python 3 (ipykernel)",
   "language": "python",
   "name": "python3"
  },
  "language_info": {
   "codemirror_mode": {
    "name": "ipython",
    "version": 3
   },
   "file_extension": ".py",
   "mimetype": "text/x-python",
   "name": "python",
   "nbconvert_exporter": "python",
   "pygments_lexer": "ipython3",
   "version": "3.9.13"
  }
 },
 "nbformat": 4,
 "nbformat_minor": 5
}
